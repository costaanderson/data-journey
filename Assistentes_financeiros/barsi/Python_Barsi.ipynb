{
  "nbformat": 4,
  "nbformat_minor": 0,
  "metadata": {
    "colab": {
      "provenance": []
    },
    "kernelspec": {
      "name": "python3",
      "display_name": "Python 3"
    },
    "language_info": {
      "name": "python"
    }
  },
  "cells": [
    {
      "cell_type": "markdown",
      "source": [
        "**Instalação das bibliotecas que serão utilizadas** - Este bloco não precisa mais executar."
      ],
      "metadata": {
        "id": "AV_7AavHE9e2"
      }
    },
    {
      "cell_type": "code",
      "source": [
        "pip install pandas_datareader\n",
        "pip install numpy\n",
        "pip install yfinance\n",
        "pip install pandas\n",
        "pip install scikit-learn\n",
        "pip install nltk"
      ],
      "metadata": {
        "id": "L-eFvDJTnjr9"
      },
      "execution_count": null,
      "outputs": []
    },
    {
      "cell_type": "code",
      "source": [
        "## Inicío do código\n",
        "!mv acoes-listadas-b3 acoes-listadas-b3.csv"
      ],
      "metadata": {
        "id": "D9hAIhHAF_2E"
      },
      "execution_count": null,
      "outputs": []
    },
    {
      "cell_type": "code",
      "source": [
        "import pandas as pd\n",
        "import yfinance as yf\n",
        "\n",
        "def obter_dados_acao(symbol):\n",
        "    try:\n",
        "        acao = yf.Ticker(symbol)\n",
        "        dados = acao.info\n",
        "        return dados\n",
        "    except Exception as e:\n",
        "        print(f\"Erro ao obter dados da ação {symbol}: {str(e)}\")\n",
        "        return None\n",
        "\n",
        "def obter_dados_historicos(ticker, start_date, end_date):\n",
        "    # Obter dados históricos de ações usando a biblioteca yfinance\n",
        "    stock_data = yf.download(ticker, start=start_date, end=end_date)\n",
        "    return stock_data\n",
        "\n",
        "def calcular_medias_moveis(data, short_window, long_window):\n",
        "    # Calcular médias móveis simples\n",
        "    data['Short_MA'] = data['Close'].rolling(window=short_window, min_periods=1).mean()\n",
        "    data['Long_MA'] = data['Close'].rolling(window=long_window, min_periods=1).mean()\n",
        "\n",
        "def gerar_recomendacao(data):\n",
        "    # Gerar recomendação com base nas médias móveis\n",
        "    if data['Short_MA'].iloc[-1] > data['Long_MA'].iloc[-1]:\n",
        "        recomendacao = 'Compra'\n",
        "    elif data['Short_MA'].iloc[-1] < data['Long_MA'].iloc[-1]:\n",
        "        recomendacao = 'Venda'\n",
        "    else:\n",
        "        recomendacao = 'Manter'\n",
        "\n",
        "    # Calcular porcentagem de variação\n",
        "    porcentagem_variacao = ((data['Short_MA'].iloc[-1] - data['Long_MA'].iloc[-1]) / data['Long_MA'].iloc[-1]) * 100\n",
        "\n",
        "    return recomendacao, porcentagem_variacao\n",
        "\n",
        "def analisar_acao_fundamental(symbol):\n",
        "    # Obter dados da ação\n",
        "    dados_acao = obter_dados_acao(symbol)\n",
        "\n",
        "    if dados_acao is not None:\n",
        "        dividend_yield = dados_acao.get('dividendYield', 0)\n",
        "        margem_liquida = dados_acao.get('profitMargins', 0)\n",
        "        preco_lucro = dados_acao.get('trailingPE', 0)\n",
        "        preco_valor_patrimonial = dados_acao.get('priceToBook', 0)\n",
        "\n",
        "        crit_eh_valido = True\n",
        "\n",
        "        if dividend_yield <= 0.04 - 0.01:\n",
        "            crit_eh_valido = False\n",
        "            print(f\"Ação {dados_acao['symbol']} não atende ao critério de dividend yield.\")\n",
        "\n",
        "        if margem_liquida < 0.1 - 0.01:\n",
        "            crit_eh_valido = False\n",
        "            print(f\"Ação {dados_acao['symbol']} não atende ao critério de margem líquida.\")\n",
        "\n",
        "        if preco_lucro >= 10:\n",
        "            crit_eh_valido = False\n",
        "            print(f\"Ação {dados_acao['symbol']} não atende ao critério de P/L.\")\n",
        "\n",
        "        if preco_valor_patrimonial >= 1.3:\n",
        "            crit_eh_valido = False\n",
        "            print(f\"Ação {dados_acao['symbol']} não atende ao critério de P/VP.\")\n",
        "\n",
        "        if crit_eh_valido:\n",
        "            print(f\"Recomendação fundamental: Compra da ação {dados_acao['symbol']}\")\n",
        "    else:\n",
        "        print(\"Dados da ação não disponíveis.\")\n",
        "\n",
        "def analisar_acao_tecnica(symbol, start_date, end_date, short_window, long_window):\n",
        "    # Obter dados históricos\n",
        "    stock_data = obter_dados_historicos(symbol, start_date, end_date)\n",
        "\n",
        "    if stock_data is not None:\n",
        "        # Calcular médias móveis\n",
        "        calcular_medias_moveis(stock_data, short_window, long_window)\n",
        "\n",
        "        # Gerar recomendação\n",
        "        recomendacao, porcentagem_variacao = gerar_recomendacao(stock_data)\n",
        "\n",
        "        # Exibir resultados\n",
        "        print(f\"Recomendação técnica para {symbol}: {recomendacao}\")\n",
        "        print(f\"Estimativa de variação: {porcentagem_variacao:.2f}%\")\n",
        "    else:\n",
        "        print(\"Dados históricos da ação não disponíveis.\")\n",
        "\n",
        "def analisar_acoes(start_date, end_date, short_window, long_window, lista_acoes):\n",
        "    for symbol in lista_acoes:\n",
        "        print(f\"\\nAnalisando ação: {symbol}\")\n",
        "        analisar_acao_fundamental(symbol)\n",
        "        analisar_acao_tecnica(symbol, start_date, end_date, short_window, long_window)\n",
        "\n",
        "if __name__ == \"__main__\":\n",
        "    # Configurar parâmetros\n",
        "    start_date = '2023-01-12'\n",
        "    end_date = '2024-01-12'\n",
        "    short_window = 50\n",
        "    long_window = 200\n",
        "\n",
        "    # Lista de símbolos de ações\n",
        "    lista_acoes = ['MTRE3.SA', 'JHSF3.SA']  # Adicione mais ações conforme necessário\n",
        "\n",
        "    # Analisar ações\n",
        "    analisar_acoes(start_date, end_date, short_window, long_window, lista_acoes)\n"
      ],
      "metadata": {
        "colab": {
          "base_uri": "https://localhost:8080/"
        },
        "id": "KQmaFARofazM",
        "outputId": "3abc6005-a7ce-48a2-9d53-8dafee34fad0"
      },
      "execution_count": null,
      "outputs": [
        {
          "output_type": "stream",
          "name": "stderr",
          "text": [
            "/usr/local/lib/python3.10/dist-packages/yfinance/base.py:48: FutureWarning: The default dtype for empty Series will be 'object' instead of 'float64' in a future version. Specify a dtype explicitly to silence this warning.\n",
            "  _empty_series = pd.Series()\n"
          ]
        },
        {
          "output_type": "stream",
          "name": "stdout",
          "text": [
            "\n",
            "Analisando ação: MTRE3.SA\n"
          ]
        },
        {
          "output_type": "stream",
          "name": "stderr",
          "text": [
            "\r[*********************100%%**********************]  1 of 1 completed"
          ]
        },
        {
          "output_type": "stream",
          "name": "stdout",
          "text": [
            "Recomendação fundamental: Compra da ação MTRE3.SA\n",
            "Recomendação técnica para MTRE3.SA: Venda\n",
            "Estimativa de variação: -5.07%"
          ]
        },
        {
          "output_type": "stream",
          "name": "stderr",
          "text": [
            "\n"
          ]
        },
        {
          "output_type": "stream",
          "name": "stdout",
          "text": [
            "\n",
            "\n",
            "Analisando ação: JHSF3.SA\n",
            "Recomendação fundamental: Compra da ação JHSF3.SA\n"
          ]
        },
        {
          "output_type": "stream",
          "name": "stderr",
          "text": [
            "\r[*********************100%%**********************]  1 of 1 completed"
          ]
        },
        {
          "output_type": "stream",
          "name": "stdout",
          "text": [
            "Recomendação técnica para JHSF3.SA: Compra\n",
            "Estimativa de variação: 1.21%\n"
          ]
        },
        {
          "output_type": "stream",
          "name": "stderr",
          "text": [
            "\n"
          ]
        }
      ]
    }
  ]
}