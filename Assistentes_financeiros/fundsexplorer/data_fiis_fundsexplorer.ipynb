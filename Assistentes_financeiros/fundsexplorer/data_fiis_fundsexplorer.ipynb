{
 "cells": [
  {
   "cell_type": "markdown",
   "id": "d69a8370",
   "metadata": {},
   "source": [
    "th[0] Fundos\n",
    "th[1] Setor\n",
    "th[2] Preço Atual\n",
    "th[3] Liquidez Diária\n",
    "th[4] P/VP\n",
    "th[6] Dividend Yield\n",
    "th[17] Patrimônio Líquido\n",
    "th[24] Quant. Ativos\n",
    "th[25] Volatilidade\n",
    "th[26] Num. Cotistas"
   ]
  },
  {
   "cell_type": "code",
   "execution_count": 1,
   "id": "d758ac83",
   "metadata": {},
   "outputs": [],
   "source": [
    "#Importação das bibliotecas\n",
    "import requests \n",
    "import json\n",
    "import pandas as pd\n",
    "from bs4 import BeautifulSoup as bs\n",
    "from datetime import datetime, timedelta\n",
    "import numpy as np\n",
    "import warnings\n",
    "warnings.filterwarnings(\"ignore\")\n",
    "import matplotlib.pyplot as plt\n",
    "\n",
    "import seaborn as sns\n",
    "from sklearn.preprocessing import StandardScaler\n",
    "from scipy.spatial.distance import pdist, squareform\n",
    "from scipy.stats import ttest_ind"
   ]
  },
  {
   "cell_type": "code",
   "execution_count": 2,
   "id": "1d8e16d2",
   "metadata": {},
   "outputs": [],
   "source": [
    "#Construção do header - Fonte:https://www.youtube.com/watch?v=o7CYPXmnUMs\n",
    "headers = {\n",
    "    \"accept\": \"application/json, text/plain, */*\",\n",
    "    \"accept-encoding\": \"gzip, deflate, br, zstd\",\n",
    "    \"accept-language\": \"pt-BR,pt;q=0.9,en-US;q=0.8,en;q=0.7\",\n",
    "    \"cookie\": \"suno_checkout_userid=ad336406-522a-42e8-ac91-349945b25c8a; _gcl_au=1.1.2079664177.1741828992; __gtm_referrer=https%3A%2F%2Fwww.google.com%2F; _clck=1ot281v%7C2%7Cfu6%7C0%7C1898; _hjSession_1183503=eyJpZCI6IjE4YjkxMmFjLTIxNGItNGZlNC05NGFlLTE5YmMwODZmNzA5MiIsImMiOjE3NDE4Mjg5OTMyNDcsInMiOjAsInIiOjAsInNiIjowLCJzciI6MCwic2UiOjAsImZzIjoxLCJzcCI6MH0=; _ga=GA1.1.630256352.1741828993; FPAU=1.1.2079664177.1741828992; __hstc=173632188.cd3633df4a95797d9d484304826184c0.1741828994294.1741828994294.1741828994294.1; hubspotutk=cd3633df4a95797d9d484304826184c0; __hssrc=1; hotid=eyJjaWQiOiIxNzMyNjQ5NzkxODA0MzY3MDk3MTk2ODE4MzQ3ODQwIiwiYmlkIjoiMTczMjY0OTc5MTgwNDM2NzA5NzE5NjgxODM0Nzg0MCIsInNpZCI6ImVmNTZlNzQ0MTRkYTQ5NDRiOTI3Y2I3NmZjNGEzZjRkIn0=; wisepops_visits=%5B%222025-03-13T01%3A23%3A12.327Z%22%5D; _fbp=fb.2.1741828995015.675119474247774340; messagesUtk=cb068ce4c95944d28cd71ef425d1f3ae; hs-messages-hide-welcome-message=true; FPGSID=1.1741828994.1741829763.G-VN673HEDSJ.cBnUWwf23EDte3Fu41fcVQ; cf_clearance=ovlcDHQmQQwMnCO6MYDq9tfCCCtro5PlVNXDTo5rrVM-1741829764-1.2.1.1-JHdUrEIU2rbFSDmk00ws4TyYnX0TulgvETPCyo1.wJd5Mn2YbJfIO2M6CKzbCvc_UGKblzViUaamovWVUkweH28HmjAVDFGLAgb3zsa2Fq..5l1V7BtkuGy838swD4JcySezQ_uXw7I7EHeJa6B3hL5XjvfrQap9WfeHp45S.LVyB5D7efwVNtvRNLXJu0YCXNf_uwEPsjNJ2A0UrV2_q3jFsF7Cbk72eTFPeOZ.Uq6Rox3afoauE31KJG2bcFbZZVCVkSQA7Nd3ieYh4Lbwudnd32kIPrWsWJsltSscHCcpZbvTJ2UU5hgH.KrLA3n9aYntEGGlVIIgSHFJeAcPQUmwOe6oy4xvkafcQeS2Ar4; _hjSessionUser_1183503=eyJpZCI6IjEyOTFhYmNjLTk3ZmEtNTVkNy1hMmY2LWNlYmJlODI1ZThkNSIsImNyZWF0ZWQiOjE3NDE4Mjg5OTMyNDYsImV4aXN0aW5nIjp0cnVlfQ==; wisepops=%7B%22popups%22%3A%7B%7D%2C%22sub%22%3A0%2C%22ucrn%22%3A2%2C%22cid%22%3A%2252100%22%2C%22v%22%3A5%2C%22bandit%22%3A%7B%22recos%22%3A%7B%7D%7D%7D; _clsk=1w19r3t%7C1741829776510%7C4%7C1%7Cf.clarity.ms%2Fcollect; __hssc=173632188.3.1741828994294; wisepops_visitor=%7B%22Uiy2Q6Vhk4%22%3A%22079c853a-e2a4-4608-8104-1a4d7d24a124%22%7D; wisepops_session=%7B%22arrivalOnSite%22%3A%222025-03-13T01%3A23%3A12.327Z%22%2C%22mtime%22%3A1741829776740%2C%22pageviews%22%3A3%2C%22popups%22%3A%7B%7D%2C%22bars%22%3A%7B%7D%2C%22embeds%22%3A%7B%7D%2C%22sticky%22%3A%7B%7D%2C%22countdowns%22%3A%7B%7D%2C%22src%22%3A%22https%3A%2F%2Fwww.google.com%2F%22%2C%22utm%22%3A%7B%7D%2C%22testIp%22%3Anull%7D; _ga_VN673HEDSJ=GS1.1.1741828993.1.1.1741829790.0.0.1432253131\",\n",
    "    \"priority\": \"u=1, i\",\n",
    "    \"referer\": \"https://www.fundsexplorer.com.br/ranking\",\n",
    "    \"sec-ch-ua\": '\"Chromium\";v=\"134\", \"Not:A-Brand\";v=\"24\", \"Google Chrome\";v=\"134\"',\n",
    "    \"sec-ch-ua-mobile\": \"?0\",\n",
    "    \"sec-ch-ua-platform\": '\"Windows\"',\n",
    "    \"sec-fetch-dest\": \"empty\",\n",
    "    \"sec-fetch-mode\": \"cors\",\n",
    "    \"sec-fetch-site\": \"same-origin\",\n",
    "    \"user-agent\": \"Mozilla/5.0 (Windows NT 10.0; Win64; x64) AppleWebKit/537.36 (KHTML, like Gecko) Chrome/134.0.0.0 Safari/537.36\",\n",
    "    \"x-funds-nonce\": \"61495f60b533cc40ad822e054998a3190ea9bca0d94791a1da\"\n",
    "}"
   ]
  },
  {
   "cell_type": "code",
   "execution_count": 3,
   "id": "ff6a2e30",
   "metadata": {},
   "outputs": [],
   "source": [
    "## Declaração da url a ser utilizada\n",
    "url= 'https://www.fundsexplorer.com.br/wp-json/funds/v1/get-ranking'"
   ]
  },
  {
   "cell_type": "code",
   "execution_count": 4,
   "id": "f9ea7671",
   "metadata": {},
   "outputs": [],
   "source": [
    "## Realizando a requisição\n",
    "response = requests.get(url, headers=headers).json() \n",
    "response = json.loads(response)\n",
    "df_fiis = pd.DataFrame(response)\n",
    "\n",
    "# Configura pandas para mostrar todas as colunas\n",
    "pd.set_option('display.max_columns', None)\n",
    "\n"
   ]
  },
  {
   "cell_type": "code",
   "execution_count": 5,
   "id": "ad272118",
   "metadata": {},
   "outputs": [
    {
     "data": {
      "text/plain": [
       "Index(['POST_ID', 'TICKER', 'DIVIDENDO', 'YELD', 'MEDIA_YIELD_3M',\n",
       "       'SOMA_YIELD_3M', 'MEDIA_YIELD_6M', 'SOMA_YIELD_6M', 'MEDIA_YIELD_12M',\n",
       "       'SOMA_YIELD_12M', 'VARIACAO_COTACAO_MES', 'RENTABILIDADE',\n",
       "       'RENTABILIDADE_MES', 'COTACAO_FECHAMENTO', 'SOMA_YIELD_ANO_CORRENTE',\n",
       "       'ANO', 'VPA_YIELD', 'VPA', 'VPA_CHANGE', 'PL', 'VPA_RENT', 'VPA_RENT_M',\n",
       "       'YIELD_VPA_3M_SUM', 'YIELD_VPA_3M', 'YIELD_VPA_6M_SUM', 'YIELD_VPA_6M',\n",
       "       'YIELD_VPA_12M_SUM', 'YIELD_VPA_12M', 'SETOR', 'SETOR_SLUG', 'VALOR',\n",
       "       'LIQUIDEZMEDIADIARIA', 'PATRIMONIO', 'PVP', 'P_VPA', 'POST_TITLE',\n",
       "       'ATIVOS', 'VOLATILITY', 'NUMERO_COTISTA', 'TX_GESTAO', 'TX_ADMIN',\n",
       "       'TX_PERFORMANCE'],\n",
       "      dtype='object')"
      ]
     },
     "execution_count": 5,
     "metadata": {},
     "output_type": "execute_result"
    }
   ],
   "source": [
    "## Colocando o nome das colunas em caixa alta\n",
    "df_fiis.columns = df_fiis.columns.str.upper() #Colocar as colunas em caixa alta\n",
    "df_fiis.columns"
   ]
  },
  {
   "cell_type": "code",
   "execution_count": 6,
   "id": "6ea8a02b",
   "metadata": {},
   "outputs": [],
   "source": [
    "## Selecionando as colunas para utilização - Ajuste os nomes conforme necessário\n",
    "colunas = ['TICKER','SETOR','LIQUIDEZMEDIADIARIA','PVP','MEDIA_YIELD_12M','RENTABILIDADE','PL','PATRIMONIO','NUMERO_COTISTA']  "
   ]
  },
  {
   "cell_type": "code",
   "execution_count": 7,
   "id": "f17db0c7",
   "metadata": {},
   "outputs": [
    {
     "data": {
      "text/html": [
       "<div>\n",
       "<style scoped>\n",
       "    .dataframe tbody tr th:only-of-type {\n",
       "        vertical-align: middle;\n",
       "    }\n",
       "\n",
       "    .dataframe tbody tr th {\n",
       "        vertical-align: top;\n",
       "    }\n",
       "\n",
       "    .dataframe thead th {\n",
       "        text-align: right;\n",
       "    }\n",
       "</style>\n",
       "<table border=\"1\" class=\"dataframe\">\n",
       "  <thead>\n",
       "    <tr style=\"text-align: right;\">\n",
       "      <th></th>\n",
       "      <th>TICKER</th>\n",
       "      <th>SETOR</th>\n",
       "      <th>LIQUIDEZMEDIADIARIA</th>\n",
       "      <th>PVP</th>\n",
       "      <th>MEDIA_YIELD_12M</th>\n",
       "      <th>RENTABILIDADE</th>\n",
       "      <th>PL</th>\n",
       "      <th>PATRIMONIO</th>\n",
       "      <th>NUMERO_COTISTA</th>\n",
       "    </tr>\n",
       "  </thead>\n",
       "  <tbody>\n",
       "    <tr>\n",
       "      <th>0</th>\n",
       "      <td>AAGR11</td>\n",
       "      <td>Indefinido</td>\n",
       "      <td>8786.33</td>\n",
       "      <td>0</td>\n",
       "      <td>1.2775</td>\n",
       "      <td>14.8646</td>\n",
       "      <td>0.0000</td>\n",
       "      <td>0</td>\n",
       "      <td>0</td>\n",
       "    </tr>\n",
       "    <tr>\n",
       "      <th>1</th>\n",
       "      <td>AAZQ11</td>\n",
       "      <td>Indefinido</td>\n",
       "      <td>421191.76</td>\n",
       "      <td>0.8575</td>\n",
       "      <td>1.4842</td>\n",
       "      <td>24.7554</td>\n",
       "      <td>207483560.9100</td>\n",
       "      <td>207483560.91</td>\n",
       "      <td>29790</td>\n",
       "    </tr>\n",
       "    <tr>\n",
       "      <th>2</th>\n",
       "      <td>ABCP11</td>\n",
       "      <td>Shoppings</td>\n",
       "      <td>93928.81</td>\n",
       "      <td>0.7688</td>\n",
       "      <td>0.8842</td>\n",
       "      <td>31.6147</td>\n",
       "      <td>507115881.7900</td>\n",
       "      <td>507115881.79</td>\n",
       "      <td>14774</td>\n",
       "    </tr>\n",
       "    <tr>\n",
       "      <th>3</th>\n",
       "      <td>AFHI11</td>\n",
       "      <td>Papéis</td>\n",
       "      <td>652864.62</td>\n",
       "      <td>0.986</td>\n",
       "      <td>1.0875</td>\n",
       "      <td>14.7793</td>\n",
       "      <td>430040925.8600</td>\n",
       "      <td>430040925.86</td>\n",
       "      <td>40748</td>\n",
       "    </tr>\n",
       "    <tr>\n",
       "      <th>4</th>\n",
       "      <td>AGRX11</td>\n",
       "      <td>Indefinido</td>\n",
       "      <td>278381.1</td>\n",
       "      <td>0.7614</td>\n",
       "      <td>1.1158</td>\n",
       "      <td>22.9554</td>\n",
       "      <td>183804613.3900</td>\n",
       "      <td>183804613.39</td>\n",
       "      <td>19257</td>\n",
       "    </tr>\n",
       "    <tr>\n",
       "      <th>...</th>\n",
       "      <td>...</td>\n",
       "      <td>...</td>\n",
       "      <td>...</td>\n",
       "      <td>...</td>\n",
       "      <td>...</td>\n",
       "      <td>...</td>\n",
       "      <td>...</td>\n",
       "      <td>...</td>\n",
       "      <td>...</td>\n",
       "    </tr>\n",
       "    <tr>\n",
       "      <th>525</th>\n",
       "      <td>YUFI11B</td>\n",
       "      <td>Indefinido</td>\n",
       "      <td></td>\n",
       "      <td>0</td>\n",
       "      <td>0.0000</td>\n",
       "      <td>0.0000</td>\n",
       "      <td>41701052.9800</td>\n",
       "      <td>0</td>\n",
       "      <td>0</td>\n",
       "    </tr>\n",
       "    <tr>\n",
       "      <th>526</th>\n",
       "      <td>ZAGH11</td>\n",
       "      <td>Serviços Financeiros Diversos</td>\n",
       "      <td>39862.6</td>\n",
       "      <td>1.063</td>\n",
       "      <td>0.6250</td>\n",
       "      <td>-14.3720</td>\n",
       "      <td>None</td>\n",
       "      <td>83197604.91</td>\n",
       "      <td>403</td>\n",
       "    </tr>\n",
       "    <tr>\n",
       "      <th>527</th>\n",
       "      <td>ZAVC11</td>\n",
       "      <td>Indefinido</td>\n",
       "      <td>2873.67</td>\n",
       "      <td>0.8824</td>\n",
       "      <td>1.2717</td>\n",
       "      <td>None</td>\n",
       "      <td>None</td>\n",
       "      <td>31066242.06</td>\n",
       "      <td>272</td>\n",
       "    </tr>\n",
       "    <tr>\n",
       "      <th>528</th>\n",
       "      <td>ZAVI11</td>\n",
       "      <td>Indefinido</td>\n",
       "      <td>40958.86</td>\n",
       "      <td>0.7124</td>\n",
       "      <td>1.2050</td>\n",
       "      <td>3.5288</td>\n",
       "      <td>None</td>\n",
       "      <td>153173637.83</td>\n",
       "      <td>3276</td>\n",
       "    </tr>\n",
       "    <tr>\n",
       "      <th>529</th>\n",
       "      <td>ZIFI11</td>\n",
       "      <td>Fundo de Desenvolvimento</td>\n",
       "      <td>9359</td>\n",
       "      <td>0.3369</td>\n",
       "      <td>0.0000</td>\n",
       "      <td>None</td>\n",
       "      <td>None</td>\n",
       "      <td>84132954.24</td>\n",
       "      <td>93</td>\n",
       "    </tr>\n",
       "  </tbody>\n",
       "</table>\n",
       "<p>530 rows × 9 columns</p>\n",
       "</div>"
      ],
      "text/plain": [
       "      TICKER                          SETOR LIQUIDEZMEDIADIARIA     PVP  \\\n",
       "0     AAGR11                     Indefinido             8786.33       0   \n",
       "1     AAZQ11                     Indefinido           421191.76  0.8575   \n",
       "2     ABCP11                      Shoppings            93928.81  0.7688   \n",
       "3     AFHI11                         Papéis           652864.62   0.986   \n",
       "4     AGRX11                     Indefinido            278381.1  0.7614   \n",
       "..       ...                            ...                 ...     ...   \n",
       "525  YUFI11B                     Indefinido                           0   \n",
       "526   ZAGH11  Serviços Financeiros Diversos             39862.6   1.063   \n",
       "527   ZAVC11                     Indefinido             2873.67  0.8824   \n",
       "528   ZAVI11                     Indefinido            40958.86  0.7124   \n",
       "529   ZIFI11       Fundo de Desenvolvimento                9359  0.3369   \n",
       "\n",
       "    MEDIA_YIELD_12M RENTABILIDADE              PL    PATRIMONIO NUMERO_COTISTA  \n",
       "0            1.2775       14.8646          0.0000             0              0  \n",
       "1            1.4842       24.7554  207483560.9100  207483560.91          29790  \n",
       "2            0.8842       31.6147  507115881.7900  507115881.79          14774  \n",
       "3            1.0875       14.7793  430040925.8600  430040925.86          40748  \n",
       "4            1.1158       22.9554  183804613.3900  183804613.39          19257  \n",
       "..              ...           ...             ...           ...            ...  \n",
       "525          0.0000        0.0000   41701052.9800             0              0  \n",
       "526          0.6250      -14.3720            None   83197604.91            403  \n",
       "527          1.2717          None            None   31066242.06            272  \n",
       "528          1.2050        3.5288            None  153173637.83           3276  \n",
       "529          0.0000          None            None   84132954.24             93  \n",
       "\n",
       "[530 rows x 9 columns]"
      ]
     },
     "execution_count": 7,
     "metadata": {},
     "output_type": "execute_result"
    }
   ],
   "source": [
    "# Criando um dataframe\n",
    "df_fiis = pd.DataFrame(df_fiis, columns=colunas)\n",
    "df_fiis\n"
   ]
  },
  {
   "cell_type": "markdown",
   "id": "ba2bd373",
   "metadata": {},
   "source": [
    "- *Limpeza de dados*"
   ]
  },
  {
   "cell_type": "code",
   "execution_count": 8,
   "id": "1bb07b6a",
   "metadata": {},
   "outputs": [
    {
     "data": {
      "text/html": [
       "<div>\n",
       "<style scoped>\n",
       "    .dataframe tbody tr th:only-of-type {\n",
       "        vertical-align: middle;\n",
       "    }\n",
       "\n",
       "    .dataframe tbody tr th {\n",
       "        vertical-align: top;\n",
       "    }\n",
       "\n",
       "    .dataframe thead th {\n",
       "        text-align: right;\n",
       "    }\n",
       "</style>\n",
       "<table border=\"1\" class=\"dataframe\">\n",
       "  <thead>\n",
       "    <tr style=\"text-align: right;\">\n",
       "      <th></th>\n",
       "      <th>TICKER</th>\n",
       "      <th>SETOR</th>\n",
       "      <th>LIQUIDEZMEDIADIARIA</th>\n",
       "      <th>PVP</th>\n",
       "      <th>MEDIA_YIELD_12M</th>\n",
       "      <th>RENTABILIDADE</th>\n",
       "      <th>PL</th>\n",
       "      <th>PATRIMONIO</th>\n",
       "      <th>NUMERO_COTISTA</th>\n",
       "      <th>PATRIMONIO_LIQUIDO</th>\n",
       "    </tr>\n",
       "  </thead>\n",
       "  <tbody>\n",
       "    <tr>\n",
       "      <th>0</th>\n",
       "      <td>AAGR11</td>\n",
       "      <td>Indefinido</td>\n",
       "      <td>8786.33</td>\n",
       "      <td>0</td>\n",
       "      <td>1.2775</td>\n",
       "      <td>14.8646</td>\n",
       "      <td>0.0000</td>\n",
       "      <td>0</td>\n",
       "      <td>0</td>\n",
       "      <td>0.0000</td>\n",
       "    </tr>\n",
       "    <tr>\n",
       "      <th>1</th>\n",
       "      <td>AAZQ11</td>\n",
       "      <td>Indefinido</td>\n",
       "      <td>421191.76</td>\n",
       "      <td>0.8575</td>\n",
       "      <td>1.4842</td>\n",
       "      <td>24.7554</td>\n",
       "      <td>207483560.9100</td>\n",
       "      <td>207483560.91</td>\n",
       "      <td>29790</td>\n",
       "      <td>207483560.9100</td>\n",
       "    </tr>\n",
       "    <tr>\n",
       "      <th>2</th>\n",
       "      <td>ABCP11</td>\n",
       "      <td>Shoppings</td>\n",
       "      <td>93928.81</td>\n",
       "      <td>0.7688</td>\n",
       "      <td>0.8842</td>\n",
       "      <td>31.6147</td>\n",
       "      <td>507115881.7900</td>\n",
       "      <td>507115881.79</td>\n",
       "      <td>14774</td>\n",
       "      <td>507115881.7900</td>\n",
       "    </tr>\n",
       "    <tr>\n",
       "      <th>3</th>\n",
       "      <td>AFHI11</td>\n",
       "      <td>Papéis</td>\n",
       "      <td>652864.62</td>\n",
       "      <td>0.986</td>\n",
       "      <td>1.0875</td>\n",
       "      <td>14.7793</td>\n",
       "      <td>430040925.8600</td>\n",
       "      <td>430040925.86</td>\n",
       "      <td>40748</td>\n",
       "      <td>430040925.8600</td>\n",
       "    </tr>\n",
       "    <tr>\n",
       "      <th>4</th>\n",
       "      <td>AGRX11</td>\n",
       "      <td>Indefinido</td>\n",
       "      <td>278381.1</td>\n",
       "      <td>0.7614</td>\n",
       "      <td>1.1158</td>\n",
       "      <td>22.9554</td>\n",
       "      <td>183804613.3900</td>\n",
       "      <td>183804613.39</td>\n",
       "      <td>19257</td>\n",
       "      <td>183804613.3900</td>\n",
       "    </tr>\n",
       "    <tr>\n",
       "      <th>...</th>\n",
       "      <td>...</td>\n",
       "      <td>...</td>\n",
       "      <td>...</td>\n",
       "      <td>...</td>\n",
       "      <td>...</td>\n",
       "      <td>...</td>\n",
       "      <td>...</td>\n",
       "      <td>...</td>\n",
       "      <td>...</td>\n",
       "      <td>...</td>\n",
       "    </tr>\n",
       "    <tr>\n",
       "      <th>525</th>\n",
       "      <td>YUFI11B</td>\n",
       "      <td>Indefinido</td>\n",
       "      <td></td>\n",
       "      <td>0</td>\n",
       "      <td>0.0000</td>\n",
       "      <td>0.0000</td>\n",
       "      <td>41701052.9800</td>\n",
       "      <td>0</td>\n",
       "      <td>0</td>\n",
       "      <td>41701052.9800</td>\n",
       "    </tr>\n",
       "    <tr>\n",
       "      <th>526</th>\n",
       "      <td>ZAGH11</td>\n",
       "      <td>Serviços Financeiros Diversos</td>\n",
       "      <td>39862.6</td>\n",
       "      <td>1.063</td>\n",
       "      <td>0.6250</td>\n",
       "      <td>-14.3720</td>\n",
       "      <td>None</td>\n",
       "      <td>83197604.91</td>\n",
       "      <td>403</td>\n",
       "      <td>83197604.91</td>\n",
       "    </tr>\n",
       "    <tr>\n",
       "      <th>527</th>\n",
       "      <td>ZAVC11</td>\n",
       "      <td>Indefinido</td>\n",
       "      <td>2873.67</td>\n",
       "      <td>0.8824</td>\n",
       "      <td>1.2717</td>\n",
       "      <td>None</td>\n",
       "      <td>None</td>\n",
       "      <td>31066242.06</td>\n",
       "      <td>272</td>\n",
       "      <td>31066242.06</td>\n",
       "    </tr>\n",
       "    <tr>\n",
       "      <th>528</th>\n",
       "      <td>ZAVI11</td>\n",
       "      <td>Indefinido</td>\n",
       "      <td>40958.86</td>\n",
       "      <td>0.7124</td>\n",
       "      <td>1.2050</td>\n",
       "      <td>3.5288</td>\n",
       "      <td>None</td>\n",
       "      <td>153173637.83</td>\n",
       "      <td>3276</td>\n",
       "      <td>153173637.83</td>\n",
       "    </tr>\n",
       "    <tr>\n",
       "      <th>529</th>\n",
       "      <td>ZIFI11</td>\n",
       "      <td>Fundo de Desenvolvimento</td>\n",
       "      <td>9359</td>\n",
       "      <td>0.3369</td>\n",
       "      <td>0.0000</td>\n",
       "      <td>None</td>\n",
       "      <td>None</td>\n",
       "      <td>84132954.24</td>\n",
       "      <td>93</td>\n",
       "      <td>84132954.24</td>\n",
       "    </tr>\n",
       "  </tbody>\n",
       "</table>\n",
       "<p>530 rows × 10 columns</p>\n",
       "</div>"
      ],
      "text/plain": [
       "      TICKER                          SETOR LIQUIDEZMEDIADIARIA     PVP  \\\n",
       "0     AAGR11                     Indefinido             8786.33       0   \n",
       "1     AAZQ11                     Indefinido           421191.76  0.8575   \n",
       "2     ABCP11                      Shoppings            93928.81  0.7688   \n",
       "3     AFHI11                         Papéis           652864.62   0.986   \n",
       "4     AGRX11                     Indefinido            278381.1  0.7614   \n",
       "..       ...                            ...                 ...     ...   \n",
       "525  YUFI11B                     Indefinido                           0   \n",
       "526   ZAGH11  Serviços Financeiros Diversos             39862.6   1.063   \n",
       "527   ZAVC11                     Indefinido             2873.67  0.8824   \n",
       "528   ZAVI11                     Indefinido            40958.86  0.7124   \n",
       "529   ZIFI11       Fundo de Desenvolvimento                9359  0.3369   \n",
       "\n",
       "    MEDIA_YIELD_12M RENTABILIDADE              PL    PATRIMONIO  \\\n",
       "0            1.2775       14.8646          0.0000             0   \n",
       "1            1.4842       24.7554  207483560.9100  207483560.91   \n",
       "2            0.8842       31.6147  507115881.7900  507115881.79   \n",
       "3            1.0875       14.7793  430040925.8600  430040925.86   \n",
       "4            1.1158       22.9554  183804613.3900  183804613.39   \n",
       "..              ...           ...             ...           ...   \n",
       "525          0.0000        0.0000   41701052.9800             0   \n",
       "526          0.6250      -14.3720            None   83197604.91   \n",
       "527          1.2717          None            None   31066242.06   \n",
       "528          1.2050        3.5288            None  153173637.83   \n",
       "529          0.0000          None            None   84132954.24   \n",
       "\n",
       "    NUMERO_COTISTA PATRIMONIO_LIQUIDO  \n",
       "0                0             0.0000  \n",
       "1            29790     207483560.9100  \n",
       "2            14774     507115881.7900  \n",
       "3            40748     430040925.8600  \n",
       "4            19257     183804613.3900  \n",
       "..             ...                ...  \n",
       "525              0      41701052.9800  \n",
       "526            403        83197604.91  \n",
       "527            272        31066242.06  \n",
       "528           3276       153173637.83  \n",
       "529             93        84132954.24  \n",
       "\n",
       "[530 rows x 10 columns]"
      ]
     },
     "execution_count": 8,
     "metadata": {},
     "output_type": "execute_result"
    }
   ],
   "source": [
    "## União das colunas PL e Patrimonio Liquido, respeitando os valores existentes\n",
    "df_fiis['PATRIMONIO_LIQUIDO'] = (df_fiis['PL'].combine_first(df_fiis['PATRIMONIO']))  # Prioriza PL, depois PATRIMONIO\n",
    "df_fiis"
   ]
  },
  {
   "cell_type": "code",
   "execution_count": 9,
   "id": "1fe199c3",
   "metadata": {},
   "outputs": [],
   "source": [
    "## Seta a coluna TICKER como index do dataframe\n",
    "df_fiis = df_fiis.set_index('TICKER')\n",
    "##df_fiis"
   ]
  },
  {
   "cell_type": "code",
   "execution_count": 10,
   "id": "2fb6e02e",
   "metadata": {},
   "outputs": [
    {
     "name": "stdout",
     "output_type": "stream",
     "text": [
      "<class 'pandas.core.frame.DataFrame'>\n",
      "Index: 530 entries, AAGR11 to ZIFI11\n",
      "Data columns (total 9 columns):\n",
      " #   Column               Non-Null Count  Dtype \n",
      "---  ------               --------------  ----- \n",
      " 0   SETOR                530 non-null    object\n",
      " 1   LIQUIDEZMEDIADIARIA  530 non-null    object\n",
      " 2   PVP                  530 non-null    object\n",
      " 3   MEDIA_YIELD_12M      527 non-null    object\n",
      " 4   RENTABILIDADE        404 non-null    object\n",
      " 5   PL                   313 non-null    object\n",
      " 6   PATRIMONIO           530 non-null    object\n",
      " 7   NUMERO_COTISTA       530 non-null    object\n",
      " 8   PATRIMONIO_LIQUIDO   530 non-null    object\n",
      "dtypes: object(9)\n",
      "memory usage: 41.4+ KB\n"
     ]
    }
   ],
   "source": [
    "df_fiis.info()"
   ]
  },
  {
   "cell_type": "code",
   "execution_count": 11,
   "id": "b43d6e43",
   "metadata": {},
   "outputs": [],
   "source": [
    "#Ajustar valores numéricos\n",
    "## Transformando as colunas None em \"---\"(Colunas que os dados não foram imputados)\n",
    "df_fiis = df_fiis.fillna(\"---\")\n",
    "df_fiis = df_fiis.replace('---',np.nan)\n",
    "df_fiis = df_fiis.replace('', np.nan)\n",
    "\n",
    "#Dropando as colunas que não serão utilizadas\n",
    "df_fiis = df_fiis.drop([\"PL\",\"PATRIMONIO\"], axis=1)"
   ]
  },
  {
   "cell_type": "code",
   "execution_count": 12,
   "id": "d7ec365f",
   "metadata": {},
   "outputs": [
    {
     "name": "stdout",
     "output_type": "stream",
     "text": [
      "<class 'pandas.core.frame.DataFrame'>\n",
      "Index: 530 entries, AAGR11 to ZIFI11\n",
      "Data columns (total 7 columns):\n",
      " #   Column               Non-Null Count  Dtype  \n",
      "---  ------               --------------  -----  \n",
      " 0   SETOR                529 non-null    object \n",
      " 1   LIQUIDEZMEDIADIARIA  483 non-null    float64\n",
      " 2   PVP                  530 non-null    float64\n",
      " 3   MEDIA_YIELD_12M      527 non-null    float64\n",
      " 4   RENTABILIDADE        404 non-null    float64\n",
      " 5   NUMERO_COTISTA       530 non-null    int64  \n",
      " 6   PATRIMONIO_LIQUIDO   530 non-null    float64\n",
      "dtypes: float64(5), int64(1), object(1)\n",
      "memory usage: 33.1+ KB\n"
     ]
    },
    {
     "data": {
      "text/html": [
       "<div>\n",
       "<style scoped>\n",
       "    .dataframe tbody tr th:only-of-type {\n",
       "        vertical-align: middle;\n",
       "    }\n",
       "\n",
       "    .dataframe tbody tr th {\n",
       "        vertical-align: top;\n",
       "    }\n",
       "\n",
       "    .dataframe thead th {\n",
       "        text-align: right;\n",
       "    }\n",
       "</style>\n",
       "<table border=\"1\" class=\"dataframe\">\n",
       "  <thead>\n",
       "    <tr style=\"text-align: right;\">\n",
       "      <th></th>\n",
       "      <th>LIQUIDEZMEDIADIARIA</th>\n",
       "      <th>PVP</th>\n",
       "      <th>MEDIA_YIELD_12M</th>\n",
       "      <th>RENTABILIDADE</th>\n",
       "      <th>NUMERO_COTISTA</th>\n",
       "      <th>PATRIMONIO_LIQUIDO</th>\n",
       "    </tr>\n",
       "  </thead>\n",
       "  <tbody>\n",
       "    <tr>\n",
       "      <th>count</th>\n",
       "      <td>3.980000e+02</td>\n",
       "      <td>398.000000</td>\n",
       "      <td>3.980000e+02</td>\n",
       "      <td>398.000000</td>\n",
       "      <td>3.980000e+02</td>\n",
       "      <td>3.980000e+02</td>\n",
       "    </tr>\n",
       "    <tr>\n",
       "      <th>mean</th>\n",
       "      <td>7.497418e+05</td>\n",
       "      <td>0.798090</td>\n",
       "      <td>1.141046e+04</td>\n",
       "      <td>131.498849</td>\n",
       "      <td>3.752030e+04</td>\n",
       "      <td>5.461196e+08</td>\n",
       "    </tr>\n",
       "    <tr>\n",
       "      <th>std</th>\n",
       "      <td>1.439498e+06</td>\n",
       "      <td>0.896557</td>\n",
       "      <td>2.275643e+05</td>\n",
       "      <td>2218.534535</td>\n",
       "      <td>9.837222e+04</td>\n",
       "      <td>9.613157e+08</td>\n",
       "    </tr>\n",
       "    <tr>\n",
       "      <th>min</th>\n",
       "      <td>8.300000e-01</td>\n",
       "      <td>0.000000</td>\n",
       "      <td>0.000000e+00</td>\n",
       "      <td>-84.159300</td>\n",
       "      <td>0.000000e+00</td>\n",
       "      <td>0.000000e+00</td>\n",
       "    </tr>\n",
       "    <tr>\n",
       "      <th>25%</th>\n",
       "      <td>3.078699e+04</td>\n",
       "      <td>0.618675</td>\n",
       "      <td>8.439500e-01</td>\n",
       "      <td>5.482675</td>\n",
       "      <td>5.882500e+02</td>\n",
       "      <td>6.924477e+07</td>\n",
       "    </tr>\n",
       "    <tr>\n",
       "      <th>50%</th>\n",
       "      <td>1.838482e+05</td>\n",
       "      <td>0.823550</td>\n",
       "      <td>1.089600e+00</td>\n",
       "      <td>15.216450</td>\n",
       "      <td>5.808000e+03</td>\n",
       "      <td>2.120898e+08</td>\n",
       "    </tr>\n",
       "    <tr>\n",
       "      <th>75%</th>\n",
       "      <td>7.850466e+05</td>\n",
       "      <td>0.949025</td>\n",
       "      <td>1.270800e+00</td>\n",
       "      <td>22.228150</td>\n",
       "      <td>2.567575e+04</td>\n",
       "      <td>5.026564e+08</td>\n",
       "    </tr>\n",
       "    <tr>\n",
       "      <th>max</th>\n",
       "      <td>1.093383e+07</td>\n",
       "      <td>16.666700</td>\n",
       "      <td>4.539896e+06</td>\n",
       "      <td>44259.434600</td>\n",
       "      <td>1.290269e+06</td>\n",
       "      <td>7.783807e+09</td>\n",
       "    </tr>\n",
       "  </tbody>\n",
       "</table>\n",
       "</div>"
      ],
      "text/plain": [
       "       LIQUIDEZMEDIADIARIA         PVP  MEDIA_YIELD_12M  RENTABILIDADE  \\\n",
       "count         3.980000e+02  398.000000     3.980000e+02     398.000000   \n",
       "mean          7.497418e+05    0.798090     1.141046e+04     131.498849   \n",
       "std           1.439498e+06    0.896557     2.275643e+05    2218.534535   \n",
       "min           8.300000e-01    0.000000     0.000000e+00     -84.159300   \n",
       "25%           3.078699e+04    0.618675     8.439500e-01       5.482675   \n",
       "50%           1.838482e+05    0.823550     1.089600e+00      15.216450   \n",
       "75%           7.850466e+05    0.949025     1.270800e+00      22.228150   \n",
       "max           1.093383e+07   16.666700     4.539896e+06   44259.434600   \n",
       "\n",
       "       NUMERO_COTISTA  PATRIMONIO_LIQUIDO  \n",
       "count    3.980000e+02        3.980000e+02  \n",
       "mean     3.752030e+04        5.461196e+08  \n",
       "std      9.837222e+04        9.613157e+08  \n",
       "min      0.000000e+00        0.000000e+00  \n",
       "25%      5.882500e+02        6.924477e+07  \n",
       "50%      5.808000e+03        2.120898e+08  \n",
       "75%      2.567575e+04        5.026564e+08  \n",
       "max      1.290269e+06        7.783807e+09  "
      ]
     },
     "execution_count": 12,
     "metadata": {},
     "output_type": "execute_result"
    }
   ],
   "source": [
    "# Ajustar valores numéricos\n",
    "df_fiis[[ 'LIQUIDEZMEDIADIARIA', 'PVP', 'MEDIA_YIELD_12M','RENTABILIDADE', 'PATRIMONIO_LIQUIDO']] = df_fiis[['LIQUIDEZMEDIADIARIA','PVP','MEDIA_YIELD_12M','RENTABILIDADE','PATRIMONIO_LIQUIDO']].astype(float)\n",
    "df_fiis[['NUMERO_COTISTA']] = df_fiis[['NUMERO_COTISTA']].astype(int)\n",
    "\n",
    "#Visualizar dados\n",
    "df_fiis.info()\n",
    "\n",
    "# Remover valores NaN\n",
    "df_filtrado = df_fiis.dropna()\n",
    "df_filtrado\n",
    "\n",
    "##Corrigir valores da coluna setor\n",
    "df_fiis['SETOR'] = df_fiis['SETOR'].replace({'Indefinido': 'Outros', 'Pagels': 'Papéis'})\n",
    "df_fiis\n",
    "\n",
    "# Visualizar estatística\n",
    "df_filtrado.describe()"
   ]
  },
  {
   "cell_type": "code",
   "execution_count": 13,
   "id": "a94e1a26",
   "metadata": {},
   "outputs": [],
   "source": [
    "# Export o dado para um CSV\n",
    "#df_filtrado.to_csv('df_filtrado.csv', index=False)"
   ]
  },
  {
   "cell_type": "code",
   "execution_count": 14,
   "id": "44c31b00",
   "metadata": {},
   "outputs": [
    {
     "data": {
      "text/plain": [
       "-24.905660377358487"
      ]
     },
     "execution_count": 14,
     "metadata": {},
     "output_type": "execute_result"
    }
   ],
   "source": [
    "# Percentual de dados removidos\n",
    "(len(df_filtrado)/len(df_fiis)-1)*100"
   ]
  },
  {
   "cell_type": "code",
   "execution_count": 15,
   "id": "f27ff37a",
   "metadata": {},
   "outputs": [
    {
     "data": {
      "text/html": [
       "<div>\n",
       "<style scoped>\n",
       "    .dataframe tbody tr th:only-of-type {\n",
       "        vertical-align: middle;\n",
       "    }\n",
       "\n",
       "    .dataframe tbody tr th {\n",
       "        vertical-align: top;\n",
       "    }\n",
       "\n",
       "    .dataframe thead th {\n",
       "        text-align: right;\n",
       "    }\n",
       "</style>\n",
       "<table border=\"1\" class=\"dataframe\">\n",
       "  <thead>\n",
       "    <tr style=\"text-align: right;\">\n",
       "      <th></th>\n",
       "      <th>LIQUIDEZMEDIADIARIA</th>\n",
       "      <th>PVP</th>\n",
       "      <th>MEDIA_YIELD_12M</th>\n",
       "      <th>RENTABILIDADE</th>\n",
       "      <th>NUMERO_COTISTA</th>\n",
       "      <th>PATRIMONIO_LIQUIDO</th>\n",
       "    </tr>\n",
       "  </thead>\n",
       "  <tbody>\n",
       "    <tr>\n",
       "      <th>count</th>\n",
       "      <td>3.470000e+02</td>\n",
       "      <td>347.000000</td>\n",
       "      <td>3.470000e+02</td>\n",
       "      <td>347.000000</td>\n",
       "      <td>3.470000e+02</td>\n",
       "      <td>3.470000e+02</td>\n",
       "    </tr>\n",
       "    <tr>\n",
       "      <th>mean</th>\n",
       "      <td>7.798922e+05</td>\n",
       "      <td>0.857116</td>\n",
       "      <td>1.308704e+04</td>\n",
       "      <td>145.024540</td>\n",
       "      <td>4.274586e+04</td>\n",
       "      <td>6.206520e+08</td>\n",
       "    </tr>\n",
       "    <tr>\n",
       "      <th>std</th>\n",
       "      <td>1.501822e+06</td>\n",
       "      <td>0.883555</td>\n",
       "      <td>2.437142e+05</td>\n",
       "      <td>2375.239491</td>\n",
       "      <td>1.043430e+05</td>\n",
       "      <td>1.007819e+09</td>\n",
       "    </tr>\n",
       "    <tr>\n",
       "      <th>min</th>\n",
       "      <td>5.170000e+00</td>\n",
       "      <td>0.010100</td>\n",
       "      <td>2.300000e-03</td>\n",
       "      <td>-84.159300</td>\n",
       "      <td>2.000000e+00</td>\n",
       "      <td>7.936895e+04</td>\n",
       "    </tr>\n",
       "    <tr>\n",
       "      <th>25%</th>\n",
       "      <td>3.189731e+04</td>\n",
       "      <td>0.679700</td>\n",
       "      <td>8.629000e-01</td>\n",
       "      <td>6.188300</td>\n",
       "      <td>1.169500e+03</td>\n",
       "      <td>1.030479e+08</td>\n",
       "    </tr>\n",
       "    <tr>\n",
       "      <th>50%</th>\n",
       "      <td>1.885236e+05</td>\n",
       "      <td>0.847200</td>\n",
       "      <td>1.105000e+00</td>\n",
       "      <td>15.640700</td>\n",
       "      <td>7.710000e+03</td>\n",
       "      <td>2.727971e+08</td>\n",
       "    </tr>\n",
       "    <tr>\n",
       "      <th>75%</th>\n",
       "      <td>7.963212e+05</td>\n",
       "      <td>0.951300</td>\n",
       "      <td>1.265450e+00</td>\n",
       "      <td>22.969350</td>\n",
       "      <td>3.547400e+04</td>\n",
       "      <td>6.609797e+08</td>\n",
       "    </tr>\n",
       "    <tr>\n",
       "      <th>max</th>\n",
       "      <td>1.093383e+07</td>\n",
       "      <td>16.666700</td>\n",
       "      <td>4.539896e+06</td>\n",
       "      <td>44259.434600</td>\n",
       "      <td>1.290269e+06</td>\n",
       "      <td>7.783807e+09</td>\n",
       "    </tr>\n",
       "  </tbody>\n",
       "</table>\n",
       "</div>"
      ],
      "text/plain": [
       "       LIQUIDEZMEDIADIARIA         PVP  MEDIA_YIELD_12M  RENTABILIDADE  \\\n",
       "count         3.470000e+02  347.000000     3.470000e+02     347.000000   \n",
       "mean          7.798922e+05    0.857116     1.308704e+04     145.024540   \n",
       "std           1.501822e+06    0.883555     2.437142e+05    2375.239491   \n",
       "min           5.170000e+00    0.010100     2.300000e-03     -84.159300   \n",
       "25%           3.189731e+04    0.679700     8.629000e-01       6.188300   \n",
       "50%           1.885236e+05    0.847200     1.105000e+00      15.640700   \n",
       "75%           7.963212e+05    0.951300     1.265450e+00      22.969350   \n",
       "max           1.093383e+07   16.666700     4.539896e+06   44259.434600   \n",
       "\n",
       "       NUMERO_COTISTA  PATRIMONIO_LIQUIDO  \n",
       "count    3.470000e+02        3.470000e+02  \n",
       "mean     4.274586e+04        6.206520e+08  \n",
       "std      1.043430e+05        1.007819e+09  \n",
       "min      2.000000e+00        7.936895e+04  \n",
       "25%      1.169500e+03        1.030479e+08  \n",
       "50%      7.710000e+03        2.727971e+08  \n",
       "75%      3.547400e+04        6.609797e+08  \n",
       "max      1.290269e+06        7.783807e+09  "
      ]
     },
     "execution_count": 15,
     "metadata": {},
     "output_type": "execute_result"
    }
   ],
   "source": [
    "# Remoção dos dados inconsistentes\n",
    "\n",
    "df_filtrado_nulos = (\n",
    "    (df_filtrado['PVP'] > 0) #--> Eliminados ativos que são nulos \n",
    "    & (df_filtrado['MEDIA_YIELD_12M'] > 0)\n",
    "    & (df_filtrado['NUMERO_COTISTA'] > 0)\n",
    "    & (df_filtrado['PATRIMONIO_LIQUIDO'] > 0)\n",
    ")\n",
    "df_filtrado = df_filtrado[df_filtrado_nulos]\n",
    "\n",
    "# Visualizar estatísticas\n",
    "df_filtrado.describe()"
   ]
  },
  {
   "cell_type": "code",
   "execution_count": 16,
   "id": "0b0e19fe",
   "metadata": {},
   "outputs": [
    {
     "data": {
      "text/plain": [
       "-34.528301886792455"
      ]
     },
     "execution_count": 16,
     "metadata": {},
     "output_type": "execute_result"
    }
   ],
   "source": [
    "# Percentual de dados removidos\n",
    "(len(df_filtrado)/len(df_fiis)-1)*100"
   ]
  },
  {
   "cell_type": "markdown",
   "id": "82442d36",
   "metadata": {},
   "source": [
    "## Método IQR(Intervalo Interquartil)<br>\n",
    "##### -> Uma maneira de medir os valores centrais dos dados, onde ficam os dados mais comuns, eliminando os extremos(outliers)"
   ]
  },
  {
   "cell_type": "markdown",
   "id": "08324dc1",
   "metadata": {},
   "source": [
    "IQR = Q3-Q1</br>\n",
    "Limite Inferior = Q1 - 1.5 * IQR</br>\n",
    "Limite Superior = Q3 - 1.5 * IQR"
   ]
  },
  {
   "cell_type": "code",
   "execution_count": 17,
   "id": "c26a45a8",
   "metadata": {},
   "outputs": [],
   "source": [
    "# IQR PVP --> Criar uma função para pegar os limites superiores e inferiores e o IQR\n"
   ]
  },
  {
   "cell_type": "code",
   "execution_count": 18,
   "id": "c6be1aaa",
   "metadata": {},
   "outputs": [
    {
     "data": {
      "text/plain": [
       "1.42215"
      ]
     },
     "execution_count": 18,
     "metadata": {},
     "output_type": "execute_result"
    }
   ],
   "source": [
    "# PVP -> eliminando os outliers deste indicador - Método estatístico ensinado por Augusto\n",
    "0.948100 * 1.5 \n"
   ]
  },
  {
   "cell_type": "code",
   "execution_count": 19,
   "id": "6d588050",
   "metadata": {},
   "outputs": [
    {
     "data": {
      "text/plain": [
       "1.920975"
      ]
     },
     "execution_count": 19,
     "metadata": {},
     "output_type": "execute_result"
    }
   ],
   "source": [
    "#MEDIA_YIELD_12M\n",
    "1.280650e+00 * 1.5"
   ]
  },
  {
   "cell_type": "code",
   "execution_count": 20,
   "id": "cf654039",
   "metadata": {},
   "outputs": [
    {
     "data": {
      "text/plain": [
       "47329.5"
      ]
     },
     "execution_count": 20,
     "metadata": {},
     "output_type": "execute_result"
    }
   ],
   "source": [
    "#COTISTA \n",
    "3.155300e+04 * 1.5"
   ]
  },
  {
   "cell_type": "code",
   "execution_count": 21,
   "id": "9ab59529",
   "metadata": {},
   "outputs": [
    {
     "data": {
      "text/plain": [
       "15718.166666666666"
      ]
     },
     "execution_count": 21,
     "metadata": {},
     "output_type": "execute_result"
    }
   ],
   "source": [
    "#Luiquidez-> 25%\n",
    "2.357725e+04 * (2/3)"
   ]
  },
  {
   "cell_type": "code",
   "execution_count": 22,
   "id": "888d6dcd",
   "metadata": {},
   "outputs": [
    {
     "data": {
      "text/html": [
       "<div>\n",
       "<style scoped>\n",
       "    .dataframe tbody tr th:only-of-type {\n",
       "        vertical-align: middle;\n",
       "    }\n",
       "\n",
       "    .dataframe tbody tr th {\n",
       "        vertical-align: top;\n",
       "    }\n",
       "\n",
       "    .dataframe thead th {\n",
       "        text-align: right;\n",
       "    }\n",
       "</style>\n",
       "<table border=\"1\" class=\"dataframe\">\n",
       "  <thead>\n",
       "    <tr style=\"text-align: right;\">\n",
       "      <th></th>\n",
       "      <th>LIQUIDEZMEDIADIARIA</th>\n",
       "      <th>PVP</th>\n",
       "      <th>MEDIA_YIELD_12M</th>\n",
       "      <th>RENTABILIDADE</th>\n",
       "      <th>NUMERO_COTISTA</th>\n",
       "      <th>PATRIMONIO_LIQUIDO</th>\n",
       "    </tr>\n",
       "  </thead>\n",
       "  <tbody>\n",
       "    <tr>\n",
       "      <th>count</th>\n",
       "      <td>9.700000e+01</td>\n",
       "      <td>97.000000</td>\n",
       "      <td>97.000000</td>\n",
       "      <td>97.000000</td>\n",
       "      <td>9.700000e+01</td>\n",
       "      <td>9.700000e+01</td>\n",
       "    </tr>\n",
       "    <tr>\n",
       "      <th>mean</th>\n",
       "      <td>2.224230e+06</td>\n",
       "      <td>0.824005</td>\n",
       "      <td>1.097829</td>\n",
       "      <td>19.196149</td>\n",
       "      <td>1.349393e+05</td>\n",
       "      <td>1.622277e+09</td>\n",
       "    </tr>\n",
       "    <tr>\n",
       "      <th>std</th>\n",
       "      <td>2.170133e+06</td>\n",
       "      <td>0.203649</td>\n",
       "      <td>0.199719</td>\n",
       "      <td>10.056023</td>\n",
       "      <td>1.643335e+05</td>\n",
       "      <td>1.451941e+09</td>\n",
       "    </tr>\n",
       "    <tr>\n",
       "      <th>min</th>\n",
       "      <td>2.422947e+05</td>\n",
       "      <td>0.082200</td>\n",
       "      <td>0.590800</td>\n",
       "      <td>-21.938900</td>\n",
       "      <td>2.515100e+04</td>\n",
       "      <td>2.074836e+08</td>\n",
       "    </tr>\n",
       "    <tr>\n",
       "      <th>25%</th>\n",
       "      <td>8.257145e+05</td>\n",
       "      <td>0.790500</td>\n",
       "      <td>0.995800</td>\n",
       "      <td>14.671300</td>\n",
       "      <td>4.193400e+04</td>\n",
       "      <td>6.682833e+08</td>\n",
       "    </tr>\n",
       "    <tr>\n",
       "      <th>50%</th>\n",
       "      <td>1.420613e+06</td>\n",
       "      <td>0.885200</td>\n",
       "      <td>1.105800</td>\n",
       "      <td>18.926200</td>\n",
       "      <td>8.470300e+04</td>\n",
       "      <td>1.307195e+09</td>\n",
       "    </tr>\n",
       "    <tr>\n",
       "      <th>75%</th>\n",
       "      <td>2.892374e+06</td>\n",
       "      <td>0.950700</td>\n",
       "      <td>1.221700</td>\n",
       "      <td>24.755400</td>\n",
       "      <td>1.533110e+05</td>\n",
       "      <td>2.011311e+09</td>\n",
       "    </tr>\n",
       "    <tr>\n",
       "      <th>max</th>\n",
       "      <td>1.093383e+07</td>\n",
       "      <td>1.057800</td>\n",
       "      <td>1.755000</td>\n",
       "      <td>46.168100</td>\n",
       "      <td>1.290269e+06</td>\n",
       "      <td>7.783807e+09</td>\n",
       "    </tr>\n",
       "  </tbody>\n",
       "</table>\n",
       "</div>"
      ],
      "text/plain": [
       "       LIQUIDEZMEDIADIARIA        PVP  MEDIA_YIELD_12M  RENTABILIDADE  \\\n",
       "count         9.700000e+01  97.000000        97.000000      97.000000   \n",
       "mean          2.224230e+06   0.824005         1.097829      19.196149   \n",
       "std           2.170133e+06   0.203649         0.199719      10.056023   \n",
       "min           2.422947e+05   0.082200         0.590800     -21.938900   \n",
       "25%           8.257145e+05   0.790500         0.995800      14.671300   \n",
       "50%           1.420613e+06   0.885200         1.105800      18.926200   \n",
       "75%           2.892374e+06   0.950700         1.221700      24.755400   \n",
       "max           1.093383e+07   1.057800         1.755000      46.168100   \n",
       "\n",
       "       NUMERO_COTISTA  PATRIMONIO_LIQUIDO  \n",
       "count    9.700000e+01        9.700000e+01  \n",
       "mean     1.349393e+05        1.622277e+09  \n",
       "std      1.643335e+05        1.451941e+09  \n",
       "min      2.515100e+04        2.074836e+08  \n",
       "25%      4.193400e+04        6.682833e+08  \n",
       "50%      8.470300e+04        1.307195e+09  \n",
       "75%      1.533110e+05        2.011311e+09  \n",
       "max      1.290269e+06        7.783807e+09  "
      ]
     },
     "execution_count": 22,
     "metadata": {},
     "output_type": "execute_result"
    }
   ],
   "source": [
    "# Remover outliers(Liquidez + PVP + Liquidez + Cotistas)\n",
    "filtro_outliers = (\n",
    "        (df_filtrado['LIQUIDEZMEDIADIARIA'] > 200_000)\n",
    "    &   (df_filtrado['PVP'] < 2)\n",
    "    &   (df_filtrado['MEDIA_YIELD_12M'] < 2)\n",
    "    &   (df_filtrado['NUMERO_COTISTA'] > 25_000)\n",
    ")\n",
    "df_filtrado = df_filtrado[filtro_outliers]\n",
    "\n",
    "#Visualizar estatistica\n",
    "df_filtrado.describe()"
   ]
  },
  {
   "cell_type": "code",
   "execution_count": 23,
   "id": "c5d816a6",
   "metadata": {},
   "outputs": [
    {
     "data": {
      "text/plain": [
       "-81.69811320754718"
      ]
     },
     "execution_count": 23,
     "metadata": {},
     "output_type": "execute_result"
    }
   ],
   "source": [
    "# Percentual de dados removidos\n",
    "(len(df_filtrado)/len(df_fiis)-1)*100"
   ]
  },
  {
   "cell_type": "code",
   "execution_count": 24,
   "id": "8822f8c4",
   "metadata": {},
   "outputs": [
    {
     "data": {
      "text/html": [
       "<div>\n",
       "<style scoped>\n",
       "    .dataframe tbody tr th:only-of-type {\n",
       "        vertical-align: middle;\n",
       "    }\n",
       "\n",
       "    .dataframe tbody tr th {\n",
       "        vertical-align: top;\n",
       "    }\n",
       "\n",
       "    .dataframe thead th {\n",
       "        text-align: right;\n",
       "    }\n",
       "</style>\n",
       "<table border=\"1\" class=\"dataframe\">\n",
       "  <thead>\n",
       "    <tr style=\"text-align: right;\">\n",
       "      <th></th>\n",
       "      <th>SETOR</th>\n",
       "      <th>LIQUIDEZMEDIADIARIA</th>\n",
       "      <th>PVP</th>\n",
       "      <th>MEDIA_YIELD_12M</th>\n",
       "      <th>RENTABILIDADE</th>\n",
       "      <th>NUMERO_COTISTA</th>\n",
       "      <th>PATRIMONIO_LIQUIDO</th>\n",
       "    </tr>\n",
       "    <tr>\n",
       "      <th>TICKER</th>\n",
       "      <th></th>\n",
       "      <th></th>\n",
       "      <th></th>\n",
       "      <th></th>\n",
       "      <th></th>\n",
       "      <th></th>\n",
       "      <th></th>\n",
       "    </tr>\n",
       "  </thead>\n",
       "  <tbody>\n",
       "    <tr>\n",
       "      <th>AAZQ11</th>\n",
       "      <td>Indefinido</td>\n",
       "      <td>421191.76</td>\n",
       "      <td>0.8575</td>\n",
       "      <td>1.4842</td>\n",
       "      <td>24.7554</td>\n",
       "      <td>29790</td>\n",
       "      <td>2.074836e+08</td>\n",
       "    </tr>\n",
       "    <tr>\n",
       "      <th>AFHI11</th>\n",
       "      <td>Papéis</td>\n",
       "      <td>652864.62</td>\n",
       "      <td>0.9860</td>\n",
       "      <td>1.0875</td>\n",
       "      <td>14.7793</td>\n",
       "      <td>40748</td>\n",
       "      <td>4.300409e+08</td>\n",
       "    </tr>\n",
       "    <tr>\n",
       "      <th>ALZR11</th>\n",
       "      <td>Misto</td>\n",
       "      <td>1744708.81</td>\n",
       "      <td>0.9645</td>\n",
       "      <td>0.7958</td>\n",
       "      <td>15.0589</td>\n",
       "      <td>153311</td>\n",
       "      <td>1.273443e+09</td>\n",
       "    </tr>\n",
       "  </tbody>\n",
       "</table>\n",
       "</div>"
      ],
      "text/plain": [
       "             SETOR  LIQUIDEZMEDIADIARIA     PVP  MEDIA_YIELD_12M  \\\n",
       "TICKER                                                             \n",
       "AAZQ11  Indefinido            421191.76  0.8575           1.4842   \n",
       "AFHI11      Papéis            652864.62  0.9860           1.0875   \n",
       "ALZR11       Misto           1744708.81  0.9645           0.7958   \n",
       "\n",
       "        RENTABILIDADE  NUMERO_COTISTA  PATRIMONIO_LIQUIDO  \n",
       "TICKER                                                     \n",
       "AAZQ11        24.7554           29790        2.074836e+08  \n",
       "AFHI11        14.7793           40748        4.300409e+08  \n",
       "ALZR11        15.0589          153311        1.273443e+09  "
      ]
     },
     "execution_count": 24,
     "metadata": {},
     "output_type": "execute_result"
    }
   ],
   "source": [
    "df_filtrado.head(3)"
   ]
  },
  {
   "cell_type": "markdown",
   "id": "0d51a145",
   "metadata": {},
   "source": [
    "- *Análise Setorial*"
   ]
  },
  {
   "cell_type": "code",
   "execution_count": 25,
   "id": "f8a14df9",
   "metadata": {},
   "outputs": [
    {
     "data": {
      "image/png": "[encoded data removed]",
      "text/plain": [
       "<Figure size 1600x400 with 1 Axes>"
      ]
     },
     "metadata": {},
     "output_type": "display_data"
    }
   ],
   "source": [
    "#Agrupar setores por patrimonio liquído\n",
    "top_setores = df_filtrado.groupby('SETOR')['PATRIMONIO_LIQUIDO'].sum().sort_values(ascending=False)\n",
    "\n",
    "# Visualizar dados (gráfico de barra vertical)\n",
    "plt.figure(figsize=(16, 4))\n",
    "top_setores.plot(kind=\"bar\", color=\"goldenrod\")\n",
    "plt.title(\"Patrimônio Líquido Total por Setor\")\n",
    "plt.ylabel(\"PL Total (R$)\")\n",
    "plt.xticks(rotation=90)\n",
    "plt.show()"
   ]
  },
  {
   "cell_type": "code",
   "execution_count": 26,
   "id": "e8687e1f",
   "metadata": {},
   "outputs": [
    {
     "data": {
      "text/plain": [
       "SETOR\n",
       "Papéis                              5.950432e+10\n",
       "Imóveis Industriais e Logísticos    2.662028e+10\n",
       "Shoppings                           1.698210e+10\n",
       "Name: PATRIMONIO_LIQUIDO, dtype: float64"
      ]
     },
     "execution_count": 26,
     "metadata": {},
     "output_type": "execute_result"
    }
   ],
   "source": [
    "top_setores.head(3)"
   ]
  },
  {
   "cell_type": "code",
   "execution_count": 27,
   "id": "dfbdbe67",
   "metadata": {},
   "outputs": [],
   "source": [
    "#Filtrar dados com os 10 principais setores\n",
    "maiores_setores = top_setores.head(10).index\n",
    "filtro_setores = df_filtrado['SETOR'].isin(maiores_setores)\n",
    "df_filtrado = df_filtrado[filtro_setores]\n"
   ]
  },
  {
   "cell_type": "code",
   "execution_count": 28,
   "id": "92815658",
   "metadata": {},
   "outputs": [
    {
     "data": {
      "text/plain": [
       "-82.26415094339623"
      ]
     },
     "execution_count": 28,
     "metadata": {},
     "output_type": "execute_result"
    }
   ],
   "source": [
    "# Percentual de dados removidos\n",
    "((len(df_filtrado) / len(df_fiis))-1)*100"
   ]
  },
  {
   "cell_type": "code",
   "execution_count": 29,
   "id": "8710720f",
   "metadata": {},
   "outputs": [
    {
     "data": {
      "image/png": "[encoded data removed]",
      "text/plain": [
       "<Figure size 1800x600 with 1 Axes>"
      ]
     },
     "metadata": {},
     "output_type": "display_data"
    }
   ],
   "source": [
    "# Análise de YIELD por setor (gráfico boxplot)\n",
    "plt.figure(figsize=(18, 6))\n",
    "sns.boxplot(data=df_filtrado, x=\"SETOR\", y=\"MEDIA_YIELD_12M\")\n",
    "plt.xticks(rotation=90)\n",
    "plt.title(\"Distribuição do Yield por Setor\")\n",
    "plt.show()"
   ]
  },
  {
   "cell_type": "code",
   "execution_count": 30,
   "id": "37204532",
   "metadata": {},
   "outputs": [
    {
     "data": {
      "text/plain": [
       "SETOR\n",
       "Indefinido                          1.23125\n",
       "Fundo de Desenvolvimento            1.22330\n",
       "Papéis                              1.16710\n",
       "Imóveis Comerciais - Outros         1.10580\n",
       "Lajes Corporativas                  1.06920\n",
       "Agências de Bancos                  1.06045\n",
       "Fundo de Fundos                     1.03290\n",
       "Imóveis Industriais e Logísticos    0.90170\n",
       "Shoppings                           0.85750\n",
       "Misto                               0.82250\n",
       "Name: MEDIA_YIELD_12M, dtype: float64"
      ]
     },
     "execution_count": 30,
     "metadata": {},
     "output_type": "execute_result"
    }
   ],
   "source": [
    "# Calcular YIELD mediano por setor\n",
    "median_yield = df_filtrado.groupby('SETOR')['MEDIA_YIELD_12M'].median().sort_values(ascending=False)\n",
    "median_yield"
   ]
  }
 ],
 "metadata": {
  "kernelspec": {
   "display_name": "Python 3",
   "language": "python",
   "name": "python3"
  },
  "language_info": {
   "codemirror_mode": {
    "name": "ipython",
    "version": 3
   },
   "file_extension": ".py",
   "mimetype": "text/x-python",
   "name": "python",
   "nbconvert_exporter": "python",
   "pygments_lexer": "ipython3",
   "version": "3.12.1"
  }
 },
 "nbformat": 4,
 "nbformat_minor": 5
}
