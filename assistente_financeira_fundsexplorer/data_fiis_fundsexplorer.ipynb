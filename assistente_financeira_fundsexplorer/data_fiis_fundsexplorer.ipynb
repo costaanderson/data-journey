{
 "cells": [
  {
   "cell_type": "markdown",
   "id": "d69a8370",
   "metadata": {},
   "source": [
    "th[0] Fundos\n",
    "th[1] Setor\n",
    "th[2] Preço Atual\n",
    "th[3] Liquidez Diária\n",
    "th[4] P/VP\n",
    "th[6] Dividend Yield\n",
    "th[17] Patrimônio Líquido\n",
    "th[24] Quant. Ativos\n",
    "th[25] Volatilidade\n",
    "th[26] Num. Cotistas"
   ]
  },
  {
   "cell_type": "code",
   "execution_count": 25,
   "id": "d758ac83",
   "metadata": {},
   "outputs": [],
   "source": [
    "#Importação das bibliotecas\n",
    "import requests \n",
    "import json\n",
    "import pandas as pd\n",
    "from bs4 import BeautifulSoup as bs\n",
    "from datetime import datetime, timedelta\n",
    "import numpy as np\n",
    "import warnings\n",
    "warnings.filterwarnings(\"ignore\")\n",
    "import matplotlib.pyplot as plt\n",
    "\n",
    "import seaborn as sns\n",
    "from sklearn.preprocessing import StandardScaler\n",
    "from scipy.spatial.distance import pdist, squareform\n",
    "from scipy.stats import ttest_ind"
   ]
  },
  {
   "cell_type": "code",
   "execution_count": 26,
   "id": "1d8e16d2",
   "metadata": {},
   "outputs": [],
   "source": [
    "#Construção do header - Fonte:https://www.youtube.com/watch?v=o7CYPXmnUMs\n",
    "headers = {\n",
    "    \"accept\": \"application/json, text/plain, */*\",\n",
    "    \"accept-encoding\": \"gzip, deflate, br, zstd\",\n",
    "    \"accept-language\": \"pt-BR,pt;q=0.9,en-US;q=0.8,en;q=0.7\",\n",
    "    \"cookie\": \"suno_checkout_userid=ad336406-522a-42e8-ac91-349945b25c8a; _gcl_au=1.1.2079664177.1741828992; __gtm_referrer=https%3A%2F%2Fwww.google.com%2F; _clck=1ot281v%7C2%7Cfu6%7C0%7C1898; _hjSession_1183503=eyJpZCI6IjE4YjkxMmFjLTIxNGItNGZlNC05NGFlLTE5YmMwODZmNzA5MiIsImMiOjE3NDE4Mjg5OTMyNDcsInMiOjAsInIiOjAsInNiIjowLCJzciI6MCwic2UiOjAsImZzIjoxLCJzcCI6MH0=; _ga=GA1.1.630256352.1741828993; FPAU=1.1.2079664177.1741828992; __hstc=173632188.cd3633df4a95797d9d484304826184c0.1741828994294.1741828994294.1741828994294.1; hubspotutk=cd3633df4a95797d9d484304826184c0; __hssrc=1; hotid=eyJjaWQiOiIxNzMyNjQ5NzkxODA0MzY3MDk3MTk2ODE4MzQ3ODQwIiwiYmlkIjoiMTczMjY0OTc5MTgwNDM2NzA5NzE5NjgxODM0Nzg0MCIsInNpZCI6ImVmNTZlNzQ0MTRkYTQ5NDRiOTI3Y2I3NmZjNGEzZjRkIn0=; wisepops_visits=%5B%222025-03-13T01%3A23%3A12.327Z%22%5D; _fbp=fb.2.1741828995015.675119474247774340; messagesUtk=cb068ce4c95944d28cd71ef425d1f3ae; hs-messages-hide-welcome-message=true; FPGSID=1.1741828994.1741829763.G-VN673HEDSJ.cBnUWwf23EDte3Fu41fcVQ; cf_clearance=ovlcDHQmQQwMnCO6MYDq9tfCCCtro5PlVNXDTo5rrVM-1741829764-1.2.1.1-JHdUrEIU2rbFSDmk00ws4TyYnX0TulgvETPCyo1.wJd5Mn2YbJfIO2M6CKzbCvc_UGKblzViUaamovWVUkweH28HmjAVDFGLAgb3zsa2Fq..5l1V7BtkuGy838swD4JcySezQ_uXw7I7EHeJa6B3hL5XjvfrQap9WfeHp45S.LVyB5D7efwVNtvRNLXJu0YCXNf_uwEPsjNJ2A0UrV2_q3jFsF7Cbk72eTFPeOZ.Uq6Rox3afoauE31KJG2bcFbZZVCVkSQA7Nd3ieYh4Lbwudnd32kIPrWsWJsltSscHCcpZbvTJ2UU5hgH.KrLA3n9aYntEGGlVIIgSHFJeAcPQUmwOe6oy4xvkafcQeS2Ar4; _hjSessionUser_1183503=eyJpZCI6IjEyOTFhYmNjLTk3ZmEtNTVkNy1hMmY2LWNlYmJlODI1ZThkNSIsImNyZWF0ZWQiOjE3NDE4Mjg5OTMyNDYsImV4aXN0aW5nIjp0cnVlfQ==; wisepops=%7B%22popups%22%3A%7B%7D%2C%22sub%22%3A0%2C%22ucrn%22%3A2%2C%22cid%22%3A%2252100%22%2C%22v%22%3A5%2C%22bandit%22%3A%7B%22recos%22%3A%7B%7D%7D%7D; _clsk=1w19r3t%7C1741829776510%7C4%7C1%7Cf.clarity.ms%2Fcollect; __hssc=173632188.3.1741828994294; wisepops_visitor=%7B%22Uiy2Q6Vhk4%22%3A%22079c853a-e2a4-4608-8104-1a4d7d24a124%22%7D; wisepops_session=%7B%22arrivalOnSite%22%3A%222025-03-13T01%3A23%3A12.327Z%22%2C%22mtime%22%3A1741829776740%2C%22pageviews%22%3A3%2C%22popups%22%3A%7B%7D%2C%22bars%22%3A%7B%7D%2C%22embeds%22%3A%7B%7D%2C%22sticky%22%3A%7B%7D%2C%22countdowns%22%3A%7B%7D%2C%22src%22%3A%22https%3A%2F%2Fwww.google.com%2F%22%2C%22utm%22%3A%7B%7D%2C%22testIp%22%3Anull%7D; _ga_VN673HEDSJ=GS1.1.1741828993.1.1.1741829790.0.0.1432253131\",\n",
    "    \"priority\": \"u=1, i\",\n",
    "    \"referer\": \"https://www.fundsexplorer.com.br/ranking\",\n",
    "    \"sec-ch-ua\": '\"Chromium\";v=\"134\", \"Not:A-Brand\";v=\"24\", \"Google Chrome\";v=\"134\"',\n",
    "    \"sec-ch-ua-mobile\": \"?0\",\n",
    "    \"sec-ch-ua-platform\": '\"Windows\"',\n",
    "    \"sec-fetch-dest\": \"empty\",\n",
    "    \"sec-fetch-mode\": \"cors\",\n",
    "    \"sec-fetch-site\": \"same-origin\",\n",
    "    \"user-agent\": \"Mozilla/5.0 (Windows NT 10.0; Win64; x64) AppleWebKit/537.36 (KHTML, like Gecko) Chrome/134.0.0.0 Safari/537.36\",\n",
    "    \"x-funds-nonce\": \"61495f60b533cc40ad822e054998a3190ea9bca0d94791a1da\"\n",
    "}"
   ]
  },
  {
   "cell_type": "code",
   "execution_count": 27,
   "id": "ff6a2e30",
   "metadata": {},
   "outputs": [],
   "source": [
    "## Declaração da url a ser utilizada\n",
    "url= 'https://www.fundsexplorer.com.br/wp-json/funds/v1/get-ranking'"
   ]
  },
  {
   "cell_type": "code",
   "execution_count": 28,
   "id": "f9ea7671",
   "metadata": {},
   "outputs": [],
   "source": [
    "## Realizando a requisição\n",
    "response = requests.get(url, headers=headers).json() \n",
    "response = json.loads(response)\n",
    "df_fiis = pd.DataFrame(response)\n",
    "\n",
    "# Configura pandas para mostrar todas as colunas\n",
    "pd.set_option('display.max_columns', None)\n",
    "\n"
   ]
  },
  {
   "cell_type": "code",
   "execution_count": 29,
   "id": "ad272118",
   "metadata": {},
   "outputs": [
    {
     "data": {
      "text/plain": [
       "Index(['POST_ID', 'TICKER', 'DIVIDENDO', 'YELD', 'MEDIA_YIELD_3M',\n",
       "       'SOMA_YIELD_3M', 'MEDIA_YIELD_6M', 'SOMA_YIELD_6M', 'MEDIA_YIELD_12M',\n",
       "       'SOMA_YIELD_12M', 'VARIACAO_COTACAO_MES', 'RENTABILIDADE',\n",
       "       'RENTABILIDADE_MES', 'COTACAO_FECHAMENTO', 'SOMA_YIELD_ANO_CORRENTE',\n",
       "       'ANO', 'VPA_YIELD', 'VPA', 'VPA_CHANGE', 'PL', 'VPA_RENT', 'VPA_RENT_M',\n",
       "       'YIELD_VPA_3M_SUM', 'YIELD_VPA_3M', 'YIELD_VPA_6M_SUM', 'YIELD_VPA_6M',\n",
       "       'YIELD_VPA_12M_SUM', 'YIELD_VPA_12M', 'SETOR', 'SETOR_SLUG', 'VALOR',\n",
       "       'LIQUIDEZMEDIADIARIA', 'PATRIMONIO', 'PVP', 'P_VPA', 'POST_TITLE',\n",
       "       'ATIVOS', 'VOLATILITY', 'NUMERO_COTISTA', 'TX_GESTAO', 'TX_ADMIN',\n",
       "       'TX_PERFORMANCE'],\n",
       "      dtype='object')"
      ]
     },
     "execution_count": 29,
     "metadata": {},
     "output_type": "execute_result"
    }
   ],
   "source": [
    "## Colocando o nome das colunas em caixa alta\n",
    "df_fiis.columns = df_fiis.columns.str.upper() #Colocar as colunas em caixa alta\n",
    "df_fiis.columns"
   ]
  },
  {
   "cell_type": "code",
   "execution_count": 30,
   "id": "6ea8a02b",
   "metadata": {},
   "outputs": [],
   "source": [
    "## Selecionando as colunas para utilização - Ajuste os nomes conforme necessário\n",
    "colunas = ['TICKER','SETOR','LIQUIDEZMEDIADIARIA','PVP','MEDIA_YIELD_12M','RENTABILIDADE','PL','PATRIMONIO','NUMERO_COTISTA']  "
   ]
  },
  {
   "cell_type": "code",
   "execution_count": 31,
   "id": "f17db0c7",
   "metadata": {},
   "outputs": [
    {
     "data": {
      "text/html": [
       "<div>\n",
       "<style scoped>\n",
       "    .dataframe tbody tr th:only-of-type {\n",
       "        vertical-align: middle;\n",
       "    }\n",
       "\n",
       "    .dataframe tbody tr th {\n",
       "        vertical-align: top;\n",
       "    }\n",
       "\n",
       "    .dataframe thead th {\n",
       "        text-align: right;\n",
       "    }\n",
       "</style>\n",
       "<table border=\"1\" class=\"dataframe\">\n",
       "  <thead>\n",
       "    <tr style=\"text-align: right;\">\n",
       "      <th></th>\n",
       "      <th>TICKER</th>\n",
       "      <th>SETOR</th>\n",
       "      <th>LIQUIDEZMEDIADIARIA</th>\n",
       "      <th>PVP</th>\n",
       "      <th>MEDIA_YIELD_12M</th>\n",
       "      <th>RENTABILIDADE</th>\n",
       "      <th>PL</th>\n",
       "      <th>PATRIMONIO</th>\n",
       "      <th>NUMERO_COTISTA</th>\n",
       "    </tr>\n",
       "  </thead>\n",
       "  <tbody>\n",
       "    <tr>\n",
       "      <th>0</th>\n",
       "      <td>AAGR11</td>\n",
       "      <td>Indefinido</td>\n",
       "      <td>9713.52</td>\n",
       "      <td>0</td>\n",
       "      <td>1.2775</td>\n",
       "      <td>14.8646</td>\n",
       "      <td>0.0000</td>\n",
       "      <td>0</td>\n",
       "      <td>0</td>\n",
       "    </tr>\n",
       "    <tr>\n",
       "      <th>1</th>\n",
       "      <td>AAZQ11</td>\n",
       "      <td>Indefinido</td>\n",
       "      <td>518979.29</td>\n",
       "      <td>0.8586</td>\n",
       "      <td>1.5000</td>\n",
       "      <td>19.8495</td>\n",
       "      <td>207483560.9100</td>\n",
       "      <td>207483560.91</td>\n",
       "      <td>29790</td>\n",
       "    </tr>\n",
       "    <tr>\n",
       "      <th>2</th>\n",
       "      <td>ABCP11</td>\n",
       "      <td>Shoppings</td>\n",
       "      <td>61879.71</td>\n",
       "      <td>0.7726</td>\n",
       "      <td>0.8725</td>\n",
       "      <td>23.1865</td>\n",
       "      <td>507115881.7900</td>\n",
       "      <td>507115881.79</td>\n",
       "      <td>14774</td>\n",
       "    </tr>\n",
       "    <tr>\n",
       "      <th>3</th>\n",
       "      <td>AFHI11</td>\n",
       "      <td>Papéis</td>\n",
       "      <td>649861.86</td>\n",
       "      <td>0.9827</td>\n",
       "      <td>1.0758</td>\n",
       "      <td>15.0417</td>\n",
       "      <td>430040925.8600</td>\n",
       "      <td>430040925.86</td>\n",
       "      <td>40748</td>\n",
       "    </tr>\n",
       "    <tr>\n",
       "      <th>4</th>\n",
       "      <td>AGRX11</td>\n",
       "      <td>Indefinido</td>\n",
       "      <td>250166.19</td>\n",
       "      <td>0.7585</td>\n",
       "      <td>1.3467</td>\n",
       "      <td>22.9554</td>\n",
       "      <td>183804613.3900</td>\n",
       "      <td>183804613.39</td>\n",
       "      <td>19257</td>\n",
       "    </tr>\n",
       "    <tr>\n",
       "      <th>...</th>\n",
       "      <td>...</td>\n",
       "      <td>...</td>\n",
       "      <td>...</td>\n",
       "      <td>...</td>\n",
       "      <td>...</td>\n",
       "      <td>...</td>\n",
       "      <td>...</td>\n",
       "      <td>...</td>\n",
       "      <td>...</td>\n",
       "    </tr>\n",
       "    <tr>\n",
       "      <th>524</th>\n",
       "      <td>YUFI11B</td>\n",
       "      <td>Indefinido</td>\n",
       "      <td></td>\n",
       "      <td>0</td>\n",
       "      <td>0.0000</td>\n",
       "      <td>0.0000</td>\n",
       "      <td>41701052.9800</td>\n",
       "      <td>0</td>\n",
       "      <td>0</td>\n",
       "    </tr>\n",
       "    <tr>\n",
       "      <th>525</th>\n",
       "      <td>ZAGH11</td>\n",
       "      <td>Serviços Financeiros Diversos</td>\n",
       "      <td>24442.4</td>\n",
       "      <td>1.11</td>\n",
       "      <td>0.6208</td>\n",
       "      <td>-14.3573</td>\n",
       "      <td>None</td>\n",
       "      <td>83197604.91</td>\n",
       "      <td>403</td>\n",
       "    </tr>\n",
       "    <tr>\n",
       "      <th>526</th>\n",
       "      <td>ZAVC11</td>\n",
       "      <td>Indefinido</td>\n",
       "      <td>23538.81</td>\n",
       "      <td>0.8614</td>\n",
       "      <td>1.2550</td>\n",
       "      <td>None</td>\n",
       "      <td>None</td>\n",
       "      <td>31066242.06</td>\n",
       "      <td>272</td>\n",
       "    </tr>\n",
       "    <tr>\n",
       "      <th>527</th>\n",
       "      <td>ZAVI11</td>\n",
       "      <td>Indefinido</td>\n",
       "      <td>34221.67</td>\n",
       "      <td>0.7168</td>\n",
       "      <td>1.1900</td>\n",
       "      <td>1.9117</td>\n",
       "      <td>None</td>\n",
       "      <td>153173637.83</td>\n",
       "      <td>3276</td>\n",
       "    </tr>\n",
       "    <tr>\n",
       "      <th>528</th>\n",
       "      <td>ZIFI11</td>\n",
       "      <td>Fundo de Desenvolvimento</td>\n",
       "      <td>9615.72</td>\n",
       "      <td>0.3499</td>\n",
       "      <td>0.0000</td>\n",
       "      <td>None</td>\n",
       "      <td>None</td>\n",
       "      <td>84132954.24</td>\n",
       "      <td>93</td>\n",
       "    </tr>\n",
       "  </tbody>\n",
       "</table>\n",
       "<p>529 rows × 9 columns</p>\n",
       "</div>"
      ],
      "text/plain": [
       "      TICKER                          SETOR LIQUIDEZMEDIADIARIA     PVP  \\\n",
       "0     AAGR11                     Indefinido             9713.52       0   \n",
       "1     AAZQ11                     Indefinido           518979.29  0.8586   \n",
       "2     ABCP11                      Shoppings            61879.71  0.7726   \n",
       "3     AFHI11                         Papéis           649861.86  0.9827   \n",
       "4     AGRX11                     Indefinido           250166.19  0.7585   \n",
       "..       ...                            ...                 ...     ...   \n",
       "524  YUFI11B                     Indefinido                           0   \n",
       "525   ZAGH11  Serviços Financeiros Diversos             24442.4    1.11   \n",
       "526   ZAVC11                     Indefinido            23538.81  0.8614   \n",
       "527   ZAVI11                     Indefinido            34221.67  0.7168   \n",
       "528   ZIFI11       Fundo de Desenvolvimento             9615.72  0.3499   \n",
       "\n",
       "    MEDIA_YIELD_12M RENTABILIDADE              PL    PATRIMONIO NUMERO_COTISTA  \n",
       "0            1.2775       14.8646          0.0000             0              0  \n",
       "1            1.5000       19.8495  207483560.9100  207483560.91          29790  \n",
       "2            0.8725       23.1865  507115881.7900  507115881.79          14774  \n",
       "3            1.0758       15.0417  430040925.8600  430040925.86          40748  \n",
       "4            1.3467       22.9554  183804613.3900  183804613.39          19257  \n",
       "..              ...           ...             ...           ...            ...  \n",
       "524          0.0000        0.0000   41701052.9800             0              0  \n",
       "525          0.6208      -14.3573            None   83197604.91            403  \n",
       "526          1.2550          None            None   31066242.06            272  \n",
       "527          1.1900        1.9117            None  153173637.83           3276  \n",
       "528          0.0000          None            None   84132954.24             93  \n",
       "\n",
       "[529 rows x 9 columns]"
      ]
     },
     "execution_count": 31,
     "metadata": {},
     "output_type": "execute_result"
    }
   ],
   "source": [
    "# Criando um dataframe\n",
    "df_fiis = pd.DataFrame(df_fiis, columns=colunas)\n",
    "df_fiis\n"
   ]
  },
  {
   "cell_type": "markdown",
   "id": "ba2bd373",
   "metadata": {},
   "source": [
    "- *Limpeza de dados*"
   ]
  },
  {
   "cell_type": "code",
   "execution_count": 32,
   "id": "1bb07b6a",
   "metadata": {},
   "outputs": [
    {
     "data": {
      "text/html": [
       "<div>\n",
       "<style scoped>\n",
       "    .dataframe tbody tr th:only-of-type {\n",
       "        vertical-align: middle;\n",
       "    }\n",
       "\n",
       "    .dataframe tbody tr th {\n",
       "        vertical-align: top;\n",
       "    }\n",
       "\n",
       "    .dataframe thead th {\n",
       "        text-align: right;\n",
       "    }\n",
       "</style>\n",
       "<table border=\"1\" class=\"dataframe\">\n",
       "  <thead>\n",
       "    <tr style=\"text-align: right;\">\n",
       "      <th></th>\n",
       "      <th>TICKER</th>\n",
       "      <th>SETOR</th>\n",
       "      <th>LIQUIDEZMEDIADIARIA</th>\n",
       "      <th>PVP</th>\n",
       "      <th>MEDIA_YIELD_12M</th>\n",
       "      <th>RENTABILIDADE</th>\n",
       "      <th>PL</th>\n",
       "      <th>PATRIMONIO</th>\n",
       "      <th>NUMERO_COTISTA</th>\n",
       "      <th>PATRIMONIO_LIQUIDO</th>\n",
       "    </tr>\n",
       "  </thead>\n",
       "  <tbody>\n",
       "    <tr>\n",
       "      <th>0</th>\n",
       "      <td>AAGR11</td>\n",
       "      <td>Indefinido</td>\n",
       "      <td>9713.52</td>\n",
       "      <td>0</td>\n",
       "      <td>1.2775</td>\n",
       "      <td>14.8646</td>\n",
       "      <td>0.0000</td>\n",
       "      <td>0</td>\n",
       "      <td>0</td>\n",
       "      <td>0.0000</td>\n",
       "    </tr>\n",
       "    <tr>\n",
       "      <th>1</th>\n",
       "      <td>AAZQ11</td>\n",
       "      <td>Indefinido</td>\n",
       "      <td>518979.29</td>\n",
       "      <td>0.8586</td>\n",
       "      <td>1.5000</td>\n",
       "      <td>19.8495</td>\n",
       "      <td>207483560.9100</td>\n",
       "      <td>207483560.91</td>\n",
       "      <td>29790</td>\n",
       "      <td>207483560.9100</td>\n",
       "    </tr>\n",
       "    <tr>\n",
       "      <th>2</th>\n",
       "      <td>ABCP11</td>\n",
       "      <td>Shoppings</td>\n",
       "      <td>61879.71</td>\n",
       "      <td>0.7726</td>\n",
       "      <td>0.8725</td>\n",
       "      <td>23.1865</td>\n",
       "      <td>507115881.7900</td>\n",
       "      <td>507115881.79</td>\n",
       "      <td>14774</td>\n",
       "      <td>507115881.7900</td>\n",
       "    </tr>\n",
       "    <tr>\n",
       "      <th>3</th>\n",
       "      <td>AFHI11</td>\n",
       "      <td>Papéis</td>\n",
       "      <td>649861.86</td>\n",
       "      <td>0.9827</td>\n",
       "      <td>1.0758</td>\n",
       "      <td>15.0417</td>\n",
       "      <td>430040925.8600</td>\n",
       "      <td>430040925.86</td>\n",
       "      <td>40748</td>\n",
       "      <td>430040925.8600</td>\n",
       "    </tr>\n",
       "    <tr>\n",
       "      <th>4</th>\n",
       "      <td>AGRX11</td>\n",
       "      <td>Indefinido</td>\n",
       "      <td>250166.19</td>\n",
       "      <td>0.7585</td>\n",
       "      <td>1.3467</td>\n",
       "      <td>22.9554</td>\n",
       "      <td>183804613.3900</td>\n",
       "      <td>183804613.39</td>\n",
       "      <td>19257</td>\n",
       "      <td>183804613.3900</td>\n",
       "    </tr>\n",
       "    <tr>\n",
       "      <th>...</th>\n",
       "      <td>...</td>\n",
       "      <td>...</td>\n",
       "      <td>...</td>\n",
       "      <td>...</td>\n",
       "      <td>...</td>\n",
       "      <td>...</td>\n",
       "      <td>...</td>\n",
       "      <td>...</td>\n",
       "      <td>...</td>\n",
       "      <td>...</td>\n",
       "    </tr>\n",
       "    <tr>\n",
       "      <th>524</th>\n",
       "      <td>YUFI11B</td>\n",
       "      <td>Indefinido</td>\n",
       "      <td></td>\n",
       "      <td>0</td>\n",
       "      <td>0.0000</td>\n",
       "      <td>0.0000</td>\n",
       "      <td>41701052.9800</td>\n",
       "      <td>0</td>\n",
       "      <td>0</td>\n",
       "      <td>41701052.9800</td>\n",
       "    </tr>\n",
       "    <tr>\n",
       "      <th>525</th>\n",
       "      <td>ZAGH11</td>\n",
       "      <td>Serviços Financeiros Diversos</td>\n",
       "      <td>24442.4</td>\n",
       "      <td>1.11</td>\n",
       "      <td>0.6208</td>\n",
       "      <td>-14.3573</td>\n",
       "      <td>None</td>\n",
       "      <td>83197604.91</td>\n",
       "      <td>403</td>\n",
       "      <td>83197604.91</td>\n",
       "    </tr>\n",
       "    <tr>\n",
       "      <th>526</th>\n",
       "      <td>ZAVC11</td>\n",
       "      <td>Indefinido</td>\n",
       "      <td>23538.81</td>\n",
       "      <td>0.8614</td>\n",
       "      <td>1.2550</td>\n",
       "      <td>None</td>\n",
       "      <td>None</td>\n",
       "      <td>31066242.06</td>\n",
       "      <td>272</td>\n",
       "      <td>31066242.06</td>\n",
       "    </tr>\n",
       "    <tr>\n",
       "      <th>527</th>\n",
       "      <td>ZAVI11</td>\n",
       "      <td>Indefinido</td>\n",
       "      <td>34221.67</td>\n",
       "      <td>0.7168</td>\n",
       "      <td>1.1900</td>\n",
       "      <td>1.9117</td>\n",
       "      <td>None</td>\n",
       "      <td>153173637.83</td>\n",
       "      <td>3276</td>\n",
       "      <td>153173637.83</td>\n",
       "    </tr>\n",
       "    <tr>\n",
       "      <th>528</th>\n",
       "      <td>ZIFI11</td>\n",
       "      <td>Fundo de Desenvolvimento</td>\n",
       "      <td>9615.72</td>\n",
       "      <td>0.3499</td>\n",
       "      <td>0.0000</td>\n",
       "      <td>None</td>\n",
       "      <td>None</td>\n",
       "      <td>84132954.24</td>\n",
       "      <td>93</td>\n",
       "      <td>84132954.24</td>\n",
       "    </tr>\n",
       "  </tbody>\n",
       "</table>\n",
       "<p>529 rows × 10 columns</p>\n",
       "</div>"
      ],
      "text/plain": [
       "      TICKER                          SETOR LIQUIDEZMEDIADIARIA     PVP  \\\n",
       "0     AAGR11                     Indefinido             9713.52       0   \n",
       "1     AAZQ11                     Indefinido           518979.29  0.8586   \n",
       "2     ABCP11                      Shoppings            61879.71  0.7726   \n",
       "3     AFHI11                         Papéis           649861.86  0.9827   \n",
       "4     AGRX11                     Indefinido           250166.19  0.7585   \n",
       "..       ...                            ...                 ...     ...   \n",
       "524  YUFI11B                     Indefinido                           0   \n",
       "525   ZAGH11  Serviços Financeiros Diversos             24442.4    1.11   \n",
       "526   ZAVC11                     Indefinido            23538.81  0.8614   \n",
       "527   ZAVI11                     Indefinido            34221.67  0.7168   \n",
       "528   ZIFI11       Fundo de Desenvolvimento             9615.72  0.3499   \n",
       "\n",
       "    MEDIA_YIELD_12M RENTABILIDADE              PL    PATRIMONIO  \\\n",
       "0            1.2775       14.8646          0.0000             0   \n",
       "1            1.5000       19.8495  207483560.9100  207483560.91   \n",
       "2            0.8725       23.1865  507115881.7900  507115881.79   \n",
       "3            1.0758       15.0417  430040925.8600  430040925.86   \n",
       "4            1.3467       22.9554  183804613.3900  183804613.39   \n",
       "..              ...           ...             ...           ...   \n",
       "524          0.0000        0.0000   41701052.9800             0   \n",
       "525          0.6208      -14.3573            None   83197604.91   \n",
       "526          1.2550          None            None   31066242.06   \n",
       "527          1.1900        1.9117            None  153173637.83   \n",
       "528          0.0000          None            None   84132954.24   \n",
       "\n",
       "    NUMERO_COTISTA PATRIMONIO_LIQUIDO  \n",
       "0                0             0.0000  \n",
       "1            29790     207483560.9100  \n",
       "2            14774     507115881.7900  \n",
       "3            40748     430040925.8600  \n",
       "4            19257     183804613.3900  \n",
       "..             ...                ...  \n",
       "524              0      41701052.9800  \n",
       "525            403        83197604.91  \n",
       "526            272        31066242.06  \n",
       "527           3276       153173637.83  \n",
       "528             93        84132954.24  \n",
       "\n",
       "[529 rows x 10 columns]"
      ]
     },
     "execution_count": 32,
     "metadata": {},
     "output_type": "execute_result"
    }
   ],
   "source": [
    "## União das colunas PL e Patrimonio Liquido, respeitando os valores existentes\n",
    "df_fiis['PATRIMONIO_LIQUIDO'] = (df_fiis['PL'].combine_first(df_fiis['PATRIMONIO']))  # Prioriza PL, depois PATRIMONIO\n",
    "df_fiis"
   ]
  },
  {
   "cell_type": "code",
   "execution_count": 33,
   "id": "1fe199c3",
   "metadata": {},
   "outputs": [],
   "source": [
    "## Seta a coluna TICKER como index do dataframe\n",
    "df_fiis = df_fiis.set_index('TICKER')\n",
    "##df_fiis"
   ]
  },
  {
   "cell_type": "code",
   "execution_count": 34,
   "id": "2fb6e02e",
   "metadata": {},
   "outputs": [
    {
     "name": "stdout",
     "output_type": "stream",
     "text": [
      "<class 'pandas.core.frame.DataFrame'>\n",
      "Index: 529 entries, AAGR11 to ZIFI11\n",
      "Data columns (total 9 columns):\n",
      " #   Column               Non-Null Count  Dtype \n",
      "---  ------               --------------  ----- \n",
      " 0   SETOR                529 non-null    object\n",
      " 1   LIQUIDEZMEDIADIARIA  529 non-null    object\n",
      " 2   PVP                  529 non-null    object\n",
      " 3   MEDIA_YIELD_12M      526 non-null    object\n",
      " 4   RENTABILIDADE        421 non-null    object\n",
      " 5   PL                   313 non-null    object\n",
      " 6   PATRIMONIO           529 non-null    object\n",
      " 7   NUMERO_COTISTA       529 non-null    object\n",
      " 8   PATRIMONIO_LIQUIDO   529 non-null    object\n",
      "dtypes: object(9)\n",
      "memory usage: 41.3+ KB\n"
     ]
    }
   ],
   "source": [
    "df_fiis.info()"
   ]
  },
  {
   "cell_type": "code",
   "execution_count": 35,
   "id": "b43d6e43",
   "metadata": {},
   "outputs": [],
   "source": [
    "#Ajustar valores numéricos\n",
    "## Transformando as colunas None em \"---\"(Colunas que os dados não foram imputados)\n",
    "df_fiis = df_fiis.fillna(\"---\")\n",
    "df_fiis = df_fiis.replace('---',np.nan)\n",
    "df_fiis = df_fiis.replace('', np.nan)\n",
    "\n",
    "#Dropando as colunas que não serão utilizadas\n",
    "df_fiis = df_fiis.drop([\"PL\",\"PATRIMONIO\"], axis=1)"
   ]
  },
  {
   "cell_type": "code",
   "execution_count": 36,
   "id": "d7ec365f",
   "metadata": {},
   "outputs": [
    {
     "name": "stdout",
     "output_type": "stream",
     "text": [
      "<class 'pandas.core.frame.DataFrame'>\n",
      "Index: 529 entries, AAGR11 to ZIFI11\n",
      "Data columns (total 7 columns):\n",
      " #   Column               Non-Null Count  Dtype  \n",
      "---  ------               --------------  -----  \n",
      " 0   SETOR                528 non-null    object \n",
      " 1   LIQUIDEZMEDIADIARIA  481 non-null    float64\n",
      " 2   PVP                  529 non-null    float64\n",
      " 3   MEDIA_YIELD_12M      526 non-null    float64\n",
      " 4   RENTABILIDADE        421 non-null    float64\n",
      " 5   NUMERO_COTISTA       529 non-null    int64  \n",
      " 6   PATRIMONIO_LIQUIDO   529 non-null    float64\n",
      "dtypes: float64(5), int64(1), object(1)\n",
      "memory usage: 33.1+ KB\n"
     ]
    },
    {
     "data": {
      "text/html": [
       "<div>\n",
       "<style scoped>\n",
       "    .dataframe tbody tr th:only-of-type {\n",
       "        vertical-align: middle;\n",
       "    }\n",
       "\n",
       "    .dataframe tbody tr th {\n",
       "        vertical-align: top;\n",
       "    }\n",
       "\n",
       "    .dataframe thead th {\n",
       "        text-align: right;\n",
       "    }\n",
       "</style>\n",
       "<table border=\"1\" class=\"dataframe\">\n",
       "  <thead>\n",
       "    <tr style=\"text-align: right;\">\n",
       "      <th></th>\n",
       "      <th>LIQUIDEZMEDIADIARIA</th>\n",
       "      <th>PVP</th>\n",
       "      <th>MEDIA_YIELD_12M</th>\n",
       "      <th>RENTABILIDADE</th>\n",
       "      <th>NUMERO_COTISTA</th>\n",
       "      <th>PATRIMONIO_LIQUIDO</th>\n",
       "    </tr>\n",
       "  </thead>\n",
       "  <tbody>\n",
       "    <tr>\n",
       "      <th>count</th>\n",
       "      <td>4.130000e+02</td>\n",
       "      <td>413.000000</td>\n",
       "      <td>4.130000e+02</td>\n",
       "      <td>413.000000</td>\n",
       "      <td>4.130000e+02</td>\n",
       "      <td>4.130000e+02</td>\n",
       "    </tr>\n",
       "    <tr>\n",
       "      <th>mean</th>\n",
       "      <td>7.481997e+05</td>\n",
       "      <td>0.801563</td>\n",
       "      <td>1.099614e+04</td>\n",
       "      <td>125.069254</td>\n",
       "      <td>3.614046e+04</td>\n",
       "      <td>5.308401e+08</td>\n",
       "    </tr>\n",
       "    <tr>\n",
       "      <th>std</th>\n",
       "      <td>1.439053e+06</td>\n",
       "      <td>0.882651</td>\n",
       "      <td>2.233935e+05</td>\n",
       "      <td>2177.997042</td>\n",
       "      <td>9.682443e+04</td>\n",
       "      <td>9.475910e+08</td>\n",
       "    </tr>\n",
       "    <tr>\n",
       "      <th>min</th>\n",
       "      <td>8.300000e-01</td>\n",
       "      <td>0.000000</td>\n",
       "      <td>0.000000e+00</td>\n",
       "      <td>-84.159300</td>\n",
       "      <td>0.000000e+00</td>\n",
       "      <td>0.000000e+00</td>\n",
       "    </tr>\n",
       "    <tr>\n",
       "      <th>25%</th>\n",
       "      <td>2.189248e+04</td>\n",
       "      <td>0.624900</td>\n",
       "      <td>8.350000e-01</td>\n",
       "      <td>3.961000</td>\n",
       "      <td>4.750000e+02</td>\n",
       "      <td>6.547719e+07</td>\n",
       "    </tr>\n",
       "    <tr>\n",
       "      <th>50%</th>\n",
       "      <td>1.660854e+05</td>\n",
       "      <td>0.821500</td>\n",
       "      <td>1.089200e+00</td>\n",
       "      <td>12.289600</td>\n",
       "      <td>4.803000e+03</td>\n",
       "      <td>1.949323e+08</td>\n",
       "    </tr>\n",
       "    <tr>\n",
       "      <th>75%</th>\n",
       "      <td>8.053016e+05</td>\n",
       "      <td>0.946500</td>\n",
       "      <td>1.288300e+00</td>\n",
       "      <td>20.143500</td>\n",
       "      <td>2.515100e+04</td>\n",
       "      <td>4.825641e+08</td>\n",
       "    </tr>\n",
       "    <tr>\n",
       "      <th>max</th>\n",
       "      <td>1.067434e+07</td>\n",
       "      <td>16.666700</td>\n",
       "      <td>4.539896e+06</td>\n",
       "      <td>44259.434600</td>\n",
       "      <td>1.290269e+06</td>\n",
       "      <td>7.783807e+09</td>\n",
       "    </tr>\n",
       "  </tbody>\n",
       "</table>\n",
       "</div>"
      ],
      "text/plain": [
       "       LIQUIDEZMEDIADIARIA         PVP  MEDIA_YIELD_12M  RENTABILIDADE  \\\n",
       "count         4.130000e+02  413.000000     4.130000e+02     413.000000   \n",
       "mean          7.481997e+05    0.801563     1.099614e+04     125.069254   \n",
       "std           1.439053e+06    0.882651     2.233935e+05    2177.997042   \n",
       "min           8.300000e-01    0.000000     0.000000e+00     -84.159300   \n",
       "25%           2.189248e+04    0.624900     8.350000e-01       3.961000   \n",
       "50%           1.660854e+05    0.821500     1.089200e+00      12.289600   \n",
       "75%           8.053016e+05    0.946500     1.288300e+00      20.143500   \n",
       "max           1.067434e+07   16.666700     4.539896e+06   44259.434600   \n",
       "\n",
       "       NUMERO_COTISTA  PATRIMONIO_LIQUIDO  \n",
       "count    4.130000e+02        4.130000e+02  \n",
       "mean     3.614046e+04        5.308401e+08  \n",
       "std      9.682443e+04        9.475910e+08  \n",
       "min      0.000000e+00        0.000000e+00  \n",
       "25%      4.750000e+02        6.547719e+07  \n",
       "50%      4.803000e+03        1.949323e+08  \n",
       "75%      2.515100e+04        4.825641e+08  \n",
       "max      1.290269e+06        7.783807e+09  "
      ]
     },
     "execution_count": 36,
     "metadata": {},
     "output_type": "execute_result"
    }
   ],
   "source": [
    "# Ajustar valores numéricos\n",
    "df_fiis[[ 'LIQUIDEZMEDIADIARIA', 'PVP', 'MEDIA_YIELD_12M','RENTABILIDADE', 'PATRIMONIO_LIQUIDO']] = df_fiis[['LIQUIDEZMEDIADIARIA','PVP','MEDIA_YIELD_12M','RENTABILIDADE','PATRIMONIO_LIQUIDO']].astype(float)\n",
    "df_fiis[['NUMERO_COTISTA']] = df_fiis[['NUMERO_COTISTA']].astype(int)\n",
    "\n",
    "#Visualizar dados\n",
    "df_fiis.info()\n",
    "\n",
    "# Remover valores NaN\n",
    "df_filtrado = df_fiis.dropna()\n",
    "df_filtrado\n",
    "\n",
    "##Corrigir valores da coluna setor\n",
    "df_fiis['SETOR'] = df_fiis['SETOR'].replace({'Indefinido': 'Outros', 'Pagels': 'Papéis'})\n",
    "df_fiis\n",
    "\n",
    "# Visualizar estatística\n",
    "df_filtrado.describe()"
   ]
  },
  {
   "cell_type": "code",
   "execution_count": 37,
   "id": "a94e1a26",
   "metadata": {},
   "outputs": [],
   "source": [
    "# Export o dado para um CSV\n",
    "#df_filtrado.to_csv('df_filtrado.csv', index=False)"
   ]
  },
  {
   "cell_type": "code",
   "execution_count": 38,
   "id": "44c31b00",
   "metadata": {},
   "outputs": [
    {
     "data": {
      "text/plain": [
       "-21.928166351606805"
      ]
     },
     "execution_count": 38,
     "metadata": {},
     "output_type": "execute_result"
    }
   ],
   "source": [
    "# Percentual de dados removidos\n",
    "(len(df_filtrado)/len(df_fiis)-1)*100"
   ]
  },
  {
   "cell_type": "code",
   "execution_count": 39,
   "id": "f27ff37a",
   "metadata": {},
   "outputs": [
    {
     "data": {
      "text/html": [
       "<div>\n",
       "<style scoped>\n",
       "    .dataframe tbody tr th:only-of-type {\n",
       "        vertical-align: middle;\n",
       "    }\n",
       "\n",
       "    .dataframe tbody tr th {\n",
       "        vertical-align: top;\n",
       "    }\n",
       "\n",
       "    .dataframe thead th {\n",
       "        text-align: right;\n",
       "    }\n",
       "</style>\n",
       "<table border=\"1\" class=\"dataframe\">\n",
       "  <thead>\n",
       "    <tr style=\"text-align: right;\">\n",
       "      <th></th>\n",
       "      <th>LIQUIDEZMEDIADIARIA</th>\n",
       "      <th>PVP</th>\n",
       "      <th>MEDIA_YIELD_12M</th>\n",
       "      <th>RENTABILIDADE</th>\n",
       "      <th>NUMERO_COTISTA</th>\n",
       "      <th>PATRIMONIO_LIQUIDO</th>\n",
       "    </tr>\n",
       "  </thead>\n",
       "  <tbody>\n",
       "    <tr>\n",
       "      <th>count</th>\n",
       "      <td>3.620000e+02</td>\n",
       "      <td>362.000000</td>\n",
       "      <td>3.620000e+02</td>\n",
       "      <td>362.000000</td>\n",
       "      <td>3.620000e+02</td>\n",
       "      <td>3.620000e+02</td>\n",
       "    </tr>\n",
       "    <tr>\n",
       "      <th>mean</th>\n",
       "      <td>7.780764e+05</td>\n",
       "      <td>0.858838</td>\n",
       "      <td>1.254486e+04</td>\n",
       "      <td>137.217461</td>\n",
       "      <td>4.095394e+04</td>\n",
       "      <td>6.000638e+08</td>\n",
       "    </tr>\n",
       "    <tr>\n",
       "      <th>std</th>\n",
       "      <td>1.498354e+06</td>\n",
       "      <td>0.867730</td>\n",
       "      <td>2.386115e+05</td>\n",
       "      <td>2325.643367</td>\n",
       "      <td>1.025137e+05</td>\n",
       "      <td>9.923415e+08</td>\n",
       "    </tr>\n",
       "    <tr>\n",
       "      <th>min</th>\n",
       "      <td>2.960000e+00</td>\n",
       "      <td>0.010200</td>\n",
       "      <td>2.300000e-03</td>\n",
       "      <td>-84.159300</td>\n",
       "      <td>2.000000e+00</td>\n",
       "      <td>7.936895e+04</td>\n",
       "    </tr>\n",
       "    <tr>\n",
       "      <th>25%</th>\n",
       "      <td>2.309017e+04</td>\n",
       "      <td>0.698750</td>\n",
       "      <td>8.535250e-01</td>\n",
       "      <td>4.809250</td>\n",
       "      <td>7.390000e+02</td>\n",
       "      <td>9.569803e+07</td>\n",
       "    </tr>\n",
       "    <tr>\n",
       "      <th>50%</th>\n",
       "      <td>1.744889e+05</td>\n",
       "      <td>0.848950</td>\n",
       "      <td>1.092500e+00</td>\n",
       "      <td>12.726700</td>\n",
       "      <td>6.744000e+03</td>\n",
       "      <td>2.447667e+08</td>\n",
       "    </tr>\n",
       "    <tr>\n",
       "      <th>75%</th>\n",
       "      <td>8.057877e+05</td>\n",
       "      <td>0.948100</td>\n",
       "      <td>1.280650e+00</td>\n",
       "      <td>20.232275</td>\n",
       "      <td>3.155300e+04</td>\n",
       "      <td>6.341451e+08</td>\n",
       "    </tr>\n",
       "    <tr>\n",
       "      <th>max</th>\n",
       "      <td>1.067434e+07</td>\n",
       "      <td>16.666700</td>\n",
       "      <td>4.539896e+06</td>\n",
       "      <td>44259.434600</td>\n",
       "      <td>1.290269e+06</td>\n",
       "      <td>7.783807e+09</td>\n",
       "    </tr>\n",
       "  </tbody>\n",
       "</table>\n",
       "</div>"
      ],
      "text/plain": [
       "       LIQUIDEZMEDIADIARIA         PVP  MEDIA_YIELD_12M  RENTABILIDADE  \\\n",
       "count         3.620000e+02  362.000000     3.620000e+02     362.000000   \n",
       "mean          7.780764e+05    0.858838     1.254486e+04     137.217461   \n",
       "std           1.498354e+06    0.867730     2.386115e+05    2325.643367   \n",
       "min           2.960000e+00    0.010200     2.300000e-03     -84.159300   \n",
       "25%           2.309017e+04    0.698750     8.535250e-01       4.809250   \n",
       "50%           1.744889e+05    0.848950     1.092500e+00      12.726700   \n",
       "75%           8.057877e+05    0.948100     1.280650e+00      20.232275   \n",
       "max           1.067434e+07   16.666700     4.539896e+06   44259.434600   \n",
       "\n",
       "       NUMERO_COTISTA  PATRIMONIO_LIQUIDO  \n",
       "count    3.620000e+02        3.620000e+02  \n",
       "mean     4.095394e+04        6.000638e+08  \n",
       "std      1.025137e+05        9.923415e+08  \n",
       "min      2.000000e+00        7.936895e+04  \n",
       "25%      7.390000e+02        9.569803e+07  \n",
       "50%      6.744000e+03        2.447667e+08  \n",
       "75%      3.155300e+04        6.341451e+08  \n",
       "max      1.290269e+06        7.783807e+09  "
      ]
     },
     "execution_count": 39,
     "metadata": {},
     "output_type": "execute_result"
    }
   ],
   "source": [
    "# Remoção dos dados inconsistentes\n",
    "\n",
    "df_filtrado_nulos = (\n",
    "    (df_filtrado['PVP'] > 0) #--> Eliminados ativos que são nulos \n",
    "    & (df_filtrado['MEDIA_YIELD_12M'] > 0)\n",
    "    & (df_filtrado['NUMERO_COTISTA'] > 0)\n",
    "    & (df_filtrado['PATRIMONIO_LIQUIDO'] > 0)\n",
    ")\n",
    "df_filtrado = df_filtrado[df_filtrado_nulos]\n",
    "\n",
    "# Visualizar estatísticas\n",
    "df_filtrado.describe()"
   ]
  },
  {
   "cell_type": "code",
   "execution_count": 40,
   "id": "0b0e19fe",
   "metadata": {},
   "outputs": [
    {
     "data": {
      "text/plain": [
       "-31.568998109640834"
      ]
     },
     "execution_count": 40,
     "metadata": {},
     "output_type": "execute_result"
    }
   ],
   "source": [
    "# Percentual de dados removidos\n",
    "(len(df_filtrado)/len(df_fiis)-1)*100"
   ]
  },
  {
   "cell_type": "markdown",
   "id": "82442d36",
   "metadata": {},
   "source": [
    "## Método IQR(Intervalo Interquartil)<br>\n",
    "##### -> Uma maneira de medir os valores centrais dos dados, onde ficam os dados mais comuns, eliminando os extremos(outliers)"
   ]
  },
  {
   "cell_type": "markdown",
   "id": "08324dc1",
   "metadata": {},
   "source": [
    "IQR = Q3-Q1</br>\n",
    "Limite Inferior = Q1 - 1.5 * IQR</br>\n",
    "Limite Superior = Q3 - 1.5 * IQR"
   ]
  },
  {
   "cell_type": "code",
   "execution_count": 41,
   "id": "c26a45a8",
   "metadata": {},
   "outputs": [],
   "source": [
    "# IQR PVP --> Criar uma função para pegar os limites superiores e inferiores e o IQR\n"
   ]
  },
  {
   "cell_type": "code",
   "execution_count": 42,
   "id": "c6be1aaa",
   "metadata": {},
   "outputs": [
    {
     "data": {
      "text/plain": [
       "1.42215"
      ]
     },
     "execution_count": 42,
     "metadata": {},
     "output_type": "execute_result"
    }
   ],
   "source": [
    "# PVP -> eliminando os outliers deste indicador - Método estatístico ensinado por Augusto\n",
    "0.948100 * 1.5 \n"
   ]
  },
  {
   "cell_type": "code",
   "execution_count": 43,
   "id": "6d588050",
   "metadata": {},
   "outputs": [
    {
     "data": {
      "text/plain": [
       "1.920975"
      ]
     },
     "execution_count": 43,
     "metadata": {},
     "output_type": "execute_result"
    }
   ],
   "source": [
    "#MEDIA_YIELD_12M\n",
    "1.280650e+00 * 1.5"
   ]
  },
  {
   "cell_type": "code",
   "execution_count": 44,
   "id": "cf654039",
   "metadata": {},
   "outputs": [
    {
     "data": {
      "text/plain": [
       "47329.5"
      ]
     },
     "execution_count": 44,
     "metadata": {},
     "output_type": "execute_result"
    }
   ],
   "source": [
    "#COTISTA \n",
    "3.155300e+04 * 1.5"
   ]
  },
  {
   "cell_type": "code",
   "execution_count": 45,
   "id": "9ab59529",
   "metadata": {},
   "outputs": [
    {
     "data": {
      "text/plain": [
       "15718.166666666666"
      ]
     },
     "execution_count": 45,
     "metadata": {},
     "output_type": "execute_result"
    }
   ],
   "source": [
    "#Luiquidez-> 25%\n",
    "2.357725e+04 * (2/3)"
   ]
  },
  {
   "cell_type": "code",
   "execution_count": 46,
   "id": "888d6dcd",
   "metadata": {},
   "outputs": [
    {
     "data": {
      "text/html": [
       "<div>\n",
       "<style scoped>\n",
       "    .dataframe tbody tr th:only-of-type {\n",
       "        vertical-align: middle;\n",
       "    }\n",
       "\n",
       "    .dataframe tbody tr th {\n",
       "        vertical-align: top;\n",
       "    }\n",
       "\n",
       "    .dataframe thead th {\n",
       "        text-align: right;\n",
       "    }\n",
       "</style>\n",
       "<table border=\"1\" class=\"dataframe\">\n",
       "  <thead>\n",
       "    <tr style=\"text-align: right;\">\n",
       "      <th></th>\n",
       "      <th>LIQUIDEZMEDIADIARIA</th>\n",
       "      <th>PVP</th>\n",
       "      <th>MEDIA_YIELD_12M</th>\n",
       "      <th>RENTABILIDADE</th>\n",
       "      <th>NUMERO_COTISTA</th>\n",
       "      <th>PATRIMONIO_LIQUIDO</th>\n",
       "    </tr>\n",
       "  </thead>\n",
       "  <tbody>\n",
       "    <tr>\n",
       "      <th>count</th>\n",
       "      <td>9.800000e+01</td>\n",
       "      <td>98.000000</td>\n",
       "      <td>98.000000</td>\n",
       "      <td>98.000000</td>\n",
       "      <td>9.800000e+01</td>\n",
       "      <td>9.800000e+01</td>\n",
       "    </tr>\n",
       "    <tr>\n",
       "      <th>mean</th>\n",
       "      <td>2.189148e+06</td>\n",
       "      <td>0.814964</td>\n",
       "      <td>1.088138</td>\n",
       "      <td>17.065600</td>\n",
       "      <td>1.339647e+05</td>\n",
       "      <td>1.608719e+09</td>\n",
       "    </tr>\n",
       "    <tr>\n",
       "      <th>std</th>\n",
       "      <td>2.121932e+06</td>\n",
       "      <td>0.209171</td>\n",
       "      <td>0.213203</td>\n",
       "      <td>9.876134</td>\n",
       "      <td>1.637686e+05</td>\n",
       "      <td>1.450660e+09</td>\n",
       "    </tr>\n",
       "    <tr>\n",
       "      <th>min</th>\n",
       "      <td>2.017052e+05</td>\n",
       "      <td>0.081800</td>\n",
       "      <td>0.287500</td>\n",
       "      <td>-21.938900</td>\n",
       "      <td>2.515100e+04</td>\n",
       "      <td>2.074836e+08</td>\n",
       "    </tr>\n",
       "    <tr>\n",
       "      <th>25%</th>\n",
       "      <td>8.151117e+05</td>\n",
       "      <td>0.779175</td>\n",
       "      <td>0.987100</td>\n",
       "      <td>11.805400</td>\n",
       "      <td>4.125150e+04</td>\n",
       "      <td>6.573280e+08</td>\n",
       "    </tr>\n",
       "    <tr>\n",
       "      <th>50%</th>\n",
       "      <td>1.447827e+06</td>\n",
       "      <td>0.876400</td>\n",
       "      <td>1.099200</td>\n",
       "      <td>16.123550</td>\n",
       "      <td>8.353250e+04</td>\n",
       "      <td>1.290319e+09</td>\n",
       "    </tr>\n",
       "    <tr>\n",
       "      <th>75%</th>\n",
       "      <td>2.812377e+06</td>\n",
       "      <td>0.941550</td>\n",
       "      <td>1.202025</td>\n",
       "      <td>23.518600</td>\n",
       "      <td>1.526600e+05</td>\n",
       "      <td>1.992935e+09</td>\n",
       "    </tr>\n",
       "    <tr>\n",
       "      <th>max</th>\n",
       "      <td>1.067434e+07</td>\n",
       "      <td>1.052900</td>\n",
       "      <td>1.755000</td>\n",
       "      <td>44.069700</td>\n",
       "      <td>1.290269e+06</td>\n",
       "      <td>7.783807e+09</td>\n",
       "    </tr>\n",
       "  </tbody>\n",
       "</table>\n",
       "</div>"
      ],
      "text/plain": [
       "       LIQUIDEZMEDIADIARIA        PVP  MEDIA_YIELD_12M  RENTABILIDADE  \\\n",
       "count         9.800000e+01  98.000000        98.000000      98.000000   \n",
       "mean          2.189148e+06   0.814964         1.088138      17.065600   \n",
       "std           2.121932e+06   0.209171         0.213203       9.876134   \n",
       "min           2.017052e+05   0.081800         0.287500     -21.938900   \n",
       "25%           8.151117e+05   0.779175         0.987100      11.805400   \n",
       "50%           1.447827e+06   0.876400         1.099200      16.123550   \n",
       "75%           2.812377e+06   0.941550         1.202025      23.518600   \n",
       "max           1.067434e+07   1.052900         1.755000      44.069700   \n",
       "\n",
       "       NUMERO_COTISTA  PATRIMONIO_LIQUIDO  \n",
       "count    9.800000e+01        9.800000e+01  \n",
       "mean     1.339647e+05        1.608719e+09  \n",
       "std      1.637686e+05        1.450660e+09  \n",
       "min      2.515100e+04        2.074836e+08  \n",
       "25%      4.125150e+04        6.573280e+08  \n",
       "50%      8.353250e+04        1.290319e+09  \n",
       "75%      1.526600e+05        1.992935e+09  \n",
       "max      1.290269e+06        7.783807e+09  "
      ]
     },
     "execution_count": 46,
     "metadata": {},
     "output_type": "execute_result"
    }
   ],
   "source": [
    "# Remover outliers(Liquidez + PVP + Liquidez + Cotistas)\n",
    "filtro_outliers = (\n",
    "        (df_filtrado['LIQUIDEZMEDIADIARIA'] > 200_000)\n",
    "    &   (df_filtrado['PVP'] < 2)\n",
    "    &   (df_filtrado['MEDIA_YIELD_12M'] < 2)\n",
    "    &   (df_filtrado['NUMERO_COTISTA'] > 25_000)\n",
    ")\n",
    "df_filtrado = df_filtrado[filtro_outliers]\n",
    "\n",
    "#Visualizar estatistica\n",
    "df_filtrado.describe()"
   ]
  },
  {
   "cell_type": "code",
   "execution_count": 47,
   "id": "c5d816a6",
   "metadata": {},
   "outputs": [
    {
     "data": {
      "text/plain": [
       "-81.47448015122873"
      ]
     },
     "execution_count": 47,
     "metadata": {},
     "output_type": "execute_result"
    }
   ],
   "source": [
    "# Percentual de dados removidos\n",
    "(len(df_filtrado)/len(df_fiis)-1)*100"
   ]
  },
  {
   "cell_type": "code",
   "execution_count": 49,
   "id": "8822f8c4",
   "metadata": {},
   "outputs": [
    {
     "data": {
      "text/html": [
       "<div>\n",
       "<style scoped>\n",
       "    .dataframe tbody tr th:only-of-type {\n",
       "        vertical-align: middle;\n",
       "    }\n",
       "\n",
       "    .dataframe tbody tr th {\n",
       "        vertical-align: top;\n",
       "    }\n",
       "\n",
       "    .dataframe thead th {\n",
       "        text-align: right;\n",
       "    }\n",
       "</style>\n",
       "<table border=\"1\" class=\"dataframe\">\n",
       "  <thead>\n",
       "    <tr style=\"text-align: right;\">\n",
       "      <th></th>\n",
       "      <th>SETOR</th>\n",
       "      <th>LIQUIDEZMEDIADIARIA</th>\n",
       "      <th>PVP</th>\n",
       "      <th>MEDIA_YIELD_12M</th>\n",
       "      <th>RENTABILIDADE</th>\n",
       "      <th>NUMERO_COTISTA</th>\n",
       "      <th>PATRIMONIO_LIQUIDO</th>\n",
       "    </tr>\n",
       "    <tr>\n",
       "      <th>TICKER</th>\n",
       "      <th></th>\n",
       "      <th></th>\n",
       "      <th></th>\n",
       "      <th></th>\n",
       "      <th></th>\n",
       "      <th></th>\n",
       "      <th></th>\n",
       "    </tr>\n",
       "  </thead>\n",
       "  <tbody>\n",
       "    <tr>\n",
       "      <th>AAZQ11</th>\n",
       "      <td>Indefinido</td>\n",
       "      <td>518979.29</td>\n",
       "      <td>0.8586</td>\n",
       "      <td>1.5000</td>\n",
       "      <td>19.8495</td>\n",
       "      <td>29790</td>\n",
       "      <td>2.074836e+08</td>\n",
       "    </tr>\n",
       "    <tr>\n",
       "      <th>AFHI11</th>\n",
       "      <td>Papéis</td>\n",
       "      <td>649861.86</td>\n",
       "      <td>0.9827</td>\n",
       "      <td>1.0758</td>\n",
       "      <td>15.0417</td>\n",
       "      <td>40748</td>\n",
       "      <td>4.300409e+08</td>\n",
       "    </tr>\n",
       "    <tr>\n",
       "      <th>ALZR11</th>\n",
       "      <td>Misto</td>\n",
       "      <td>1884783.38</td>\n",
       "      <td>0.9645</td>\n",
       "      <td>0.7892</td>\n",
       "      <td>14.0479</td>\n",
       "      <td>153311</td>\n",
       "      <td>1.273443e+09</td>\n",
       "    </tr>\n",
       "  </tbody>\n",
       "</table>\n",
       "</div>"
      ],
      "text/plain": [
       "             SETOR  LIQUIDEZMEDIADIARIA     PVP  MEDIA_YIELD_12M  \\\n",
       "TICKER                                                             \n",
       "AAZQ11  Indefinido            518979.29  0.8586           1.5000   \n",
       "AFHI11      Papéis            649861.86  0.9827           1.0758   \n",
       "ALZR11       Misto           1884783.38  0.9645           0.7892   \n",
       "\n",
       "        RENTABILIDADE  NUMERO_COTISTA  PATRIMONIO_LIQUIDO  \n",
       "TICKER                                                     \n",
       "AAZQ11        19.8495           29790        2.074836e+08  \n",
       "AFHI11        15.0417           40748        4.300409e+08  \n",
       "ALZR11        14.0479          153311        1.273443e+09  "
      ]
     },
     "execution_count": 49,
     "metadata": {},
     "output_type": "execute_result"
    }
   ],
   "source": [
    "df_filtrado.head(3)"
   ]
  },
  {
   "cell_type": "markdown",
   "id": "0d51a145",
   "metadata": {},
   "source": [
    "- *Análise Setorial*"
   ]
  },
  {
   "cell_type": "code",
   "execution_count": 51,
   "id": "f8a14df9",
   "metadata": {},
   "outputs": [
    {
     "data": {
      "image/png": "[encoded data removed]",
      "text/plain": [
       "<Figure size 1600x400 with 1 Axes>"
      ]
     },
     "metadata": {},
     "output_type": "display_data"
    }
   ],
   "source": [
    "#Agrupar setores por patrimonio liquído\n",
    "top_setores = df_filtrado.groupby('SETOR')['PATRIMONIO_LIQUIDO'].sum().sort_values(ascending=False)\n",
    "\n",
    "# Visualizar dados (gráfico de barra vertical)\n",
    "plt.figure(figsize=(16, 4))\n",
    "top_setores.plot(kind=\"bar\", color=\"goldenrod\")\n",
    "plt.title(\"Patrimônio Líquido Total por Setor\")\n",
    "plt.ylabel(\"PL Total (R$)\")\n",
    "plt.xticks(rotation=90)\n",
    "plt.show()"
   ]
  },
  {
   "cell_type": "code",
   "execution_count": 74,
   "id": "e8687e1f",
   "metadata": {},
   "outputs": [
    {
     "data": {
      "text/plain": [
       "SETOR\n",
       "Papéis                              5.950432e+10\n",
       "Imóveis Industriais e Logísticos    2.662028e+10\n",
       "Shoppings                           1.698210e+10\n",
       "Name: PATRIMONIO_LIQUIDO, dtype: float64"
      ]
     },
     "execution_count": 74,
     "metadata": {},
     "output_type": "execute_result"
    }
   ],
   "source": [
    "top_setores.head(3)"
   ]
  },
  {
   "cell_type": "code",
   "execution_count": 62,
   "id": "dfbdbe67",
   "metadata": {},
   "outputs": [],
   "source": [
    "#Filtrar dados com os 10 principais setores\n",
    "maiores_setores = top_setores.head(10).index\n",
    "filtro_setores = df_filtrado['SETOR'].isin(maiores_setores)\n",
    "df_filtrado = df_filtrado[filtro_setores]\n"
   ]
  },
  {
   "cell_type": "code",
   "execution_count": 63,
   "id": "92815658",
   "metadata": {},
   "outputs": [
    {
     "data": {
      "text/plain": [
       "-82.04158790170133"
      ]
     },
     "execution_count": 63,
     "metadata": {},
     "output_type": "execute_result"
    }
   ],
   "source": [
    "# Percentual de dados removidos\n",
    "((len(df_filtrado) / len(df_fiis))-1)*100"
   ]
  },
  {
   "cell_type": "code",
   "execution_count": 64,
   "id": "8710720f",
   "metadata": {},
   "outputs": [
    {
     "data": {
      "image/png": "[encoded data removed]",
      "text/plain": [
       "<Figure size 1800x600 with 1 Axes>"
      ]
     },
     "metadata": {},
     "output_type": "display_data"
    }
   ],
   "source": [
    "# Análise de YIELD por setor (gráfico boxplot)\n",
    "plt.figure(figsize=(18, 6))\n",
    "sns.boxplot(data=df_filtrado, x=\"SETOR\", y=\"MEDIA_YIELD_12M\")\n",
    "plt.xticks(rotation=90)\n",
    "plt.title(\"Distribuição do Yield por Setor\")\n",
    "plt.show()"
   ]
  },
  {
   "cell_type": "code",
   "execution_count": 71,
   "id": "37204532",
   "metadata": {},
   "outputs": [
    {
     "data": {
      "text/plain": [
       "SETOR\n",
       "Indefinido                          1.23210\n",
       "Fundo de Desenvolvimento            1.20920\n",
       "Papéis                              1.15960\n",
       "Imóveis Comerciais - Outros         1.10830\n",
       "Agências de Bancos                  1.05835\n",
       "Fundo de Fundos                     1.03500\n",
       "Lajes Corporativas                  1.03250\n",
       "Imóveis Industriais e Logísticos    0.91250\n",
       "Shoppings                           0.86420\n",
       "Misto                               0.82420\n",
       "Name: MEDIA_YIELD_12M, dtype: float64"
      ]
     },
     "execution_count": 71,
     "metadata": {},
     "output_type": "execute_result"
    }
   ],
   "source": [
    "# Calcular YIELD mediano por setor\n",
    "median_yield = df_filtrado.groupby('SETOR')['MEDIA_YIELD_12M'].median().sort_values(ascending=False)\n",
    "median_yield"
   ]
  }
 ],
 "metadata": {
  "kernelspec": {
   "display_name": "Python 3",
   "language": "python",
   "name": "python3"
  },
  "language_info": {
   "codemirror_mode": {
    "name": "ipython",
    "version": 3
   },
   "file_extension": ".py",
   "mimetype": "text/x-python",
   "name": "python",
   "nbconvert_exporter": "python",
   "pygments_lexer": "ipython3",
   "version": "3.12.1"
  }
 },
 "nbformat": 4,
 "nbformat_minor": 5
}
